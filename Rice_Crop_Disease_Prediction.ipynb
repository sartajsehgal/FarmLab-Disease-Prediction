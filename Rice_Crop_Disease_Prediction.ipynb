{
  "nbformat": 4,
  "nbformat_minor": 0,
  "metadata": {
    "colab": {
      "name": "Rice_Crop_Disease_Prediction.ipynb",
      "provenance": [],
      "collapsed_sections": [],
      "mount_file_id": "1NzQXV_iW5KgFCTkj6P0KBOnQZ80V1fvh",
      "authorship_tag": "ABX9TyPjhqDlZxG7HN79Kb/VTfc1",
      "include_colab_link": true
    },
    "kernelspec": {
      "name": "python3",
      "display_name": "Python 3"
    },
    "language_info": {
      "name": "python"
    },
    "accelerator": "GPU"
  },
  "cells": [
    {
      "cell_type": "markdown",
      "metadata": {
        "id": "view-in-github",
        "colab_type": "text"
      },
      "source": [
        "<a href=\"https://colab.research.google.com/github/sartajsehgal/FarmLab-Disease-Prediction/blob/main/Rice_Crop_Disease_Prediction.ipynb\" target=\"_parent\"><img src=\"https://colab.research.google.com/assets/colab-badge.svg\" alt=\"Open In Colab\"/></a>"
      ]
    },
    {
      "cell_type": "code",
      "source": [
        "%tensorflow_version 2.x\n",
        "import tensorflow as tf\n",
        "device_name = tf.test.gpu_device_name()\n",
        "if device_name != '/device:GPU:0':\n",
        "  raise SystemError('GPU device not found')\n",
        "print('Found GPU at: {}'.format(device_name))"
      ],
      "metadata": {
        "colab": {
          "base_uri": "https://localhost:8080/"
        },
        "id": "Pu5QdtAS7puw",
        "outputId": "682e8a3b-56bb-47e3-e506-0caa61793aaa"
      },
      "execution_count": 1,
      "outputs": [
        {
          "output_type": "stream",
          "name": "stdout",
          "text": [
            "Found GPU at: /device:GPU:0\n"
          ]
        }
      ]
    },
    {
      "cell_type": "code",
      "source": [
        "import numpy as np\n",
        "import pandas as pd\n",
        "import tensorflow as tf\n",
        "from tensorflow import keras\n",
        "import os\n",
        "import cv2\n",
        "from PIL import Image\n",
        "import random"
      ],
      "metadata": {
        "id": "oph1xEl5nNeb"
      },
      "execution_count": 2,
      "outputs": []
    },
    {
      "cell_type": "code",
      "source": [
        "path='/content/drive/MyDrive/Rice Dataset/'\n",
        "categories=os.listdir(path)\n",
        "training=[]\n",
        "categories\n",
        "for category in categories:\n",
        "    class_num=categories.index(category)\n",
        "    for img in os.listdir(path+category):\n",
        "        if img.endswith('.jpg') or img.endswith('.JPG'):\n",
        "            img_array=cv2.imread(path+category+'/'+img)\n",
        "            new_array=cv2.resize(img_array,(64,64))\n",
        "            training.append([new_array, class_num])\n",
        "training[0]"
      ],
      "metadata": {
        "colab": {
          "base_uri": "https://localhost:8080/"
        },
        "id": "lXzuFN61naX0",
        "outputId": "6620097a-6a2e-4c37-962b-dece6c87d7bf"
      },
      "execution_count": 3,
      "outputs": [
        {
          "output_type": "execute_result",
          "data": {
            "text/plain": [
              "[array([[[228, 220, 220],\n",
              "         [234, 227, 225],\n",
              "         [231, 223, 223],\n",
              "         ...,\n",
              "         [212, 204, 203],\n",
              "         [218, 204, 205],\n",
              "         [209, 201, 201]],\n",
              " \n",
              "        [[236, 228, 226],\n",
              "         [237, 223, 224],\n",
              "         [238, 225, 219],\n",
              "         ...,\n",
              "         [209, 201, 201],\n",
              "         [213, 205, 205],\n",
              "         [213, 206, 203]],\n",
              " \n",
              "        [[244, 230, 231],\n",
              "         [239, 225, 226],\n",
              "         [239, 225, 226],\n",
              "         ...,\n",
              "         [212, 204, 204],\n",
              "         [214, 200, 201],\n",
              "         [210, 196, 197]],\n",
              " \n",
              "        ...,\n",
              " \n",
              "        [[249, 242, 241],\n",
              "         [243, 235, 234],\n",
              "         [243, 235, 235],\n",
              "         ...,\n",
              "         [226, 212, 213],\n",
              "         [223, 209, 210],\n",
              "         [224, 210, 211]],\n",
              " \n",
              "        [[245, 237, 237],\n",
              "         [247, 239, 239],\n",
              "         [246, 238, 237],\n",
              "         ...,\n",
              "         [226, 212, 213],\n",
              "         [229, 216, 216],\n",
              "         [228, 214, 215]],\n",
              " \n",
              "        [[247, 239, 239],\n",
              "         [244, 237, 235],\n",
              "         [252, 245, 244],\n",
              "         ...,\n",
              "         [230, 216, 217],\n",
              "         [223, 209, 210],\n",
              "         [223, 209, 210]]], dtype=uint8), 0]"
            ]
          },
          "metadata": {},
          "execution_count": 3
        }
      ]
    },
    {
      "cell_type": "code",
      "source": [
        "random.shuffle(training)"
      ],
      "metadata": {
        "id": "eUl8an0Sn52M"
      },
      "execution_count": 4,
      "outputs": []
    },
    {
      "cell_type": "code",
      "source": [
        "X=[]\n",
        "y=[]\n",
        "for features, label in training:\n",
        "    X.append(features)\n",
        "    y.append(label)\n",
        "X=np.array(X).reshape(-1,64,64,3)"
      ],
      "metadata": {
        "id": "hTwG1fLcq-eh"
      },
      "execution_count": 5,
      "outputs": []
    },
    {
      "cell_type": "code",
      "source": [
        "X=X.astype('float32')\n",
        "X/=255\n",
        "from keras.utils import np_utils\n",
        "Y=np_utils.to_categorical(y,7)\n",
        "print(Y[100])\n",
        "print(Y.shape)"
      ],
      "metadata": {
        "colab": {
          "base_uri": "https://localhost:8080/"
        },
        "id": "MlPOmHlYrE-3",
        "outputId": "bab3ad1f-0d11-471f-8939-1742b3a1260a"
      },
      "execution_count": 6,
      "outputs": [
        {
          "output_type": "stream",
          "name": "stdout",
          "text": [
            "[0. 0. 0. 0. 0. 1. 0.]\n",
            "(9237, 7)\n"
          ]
        }
      ]
    },
    {
      "cell_type": "code",
      "source": [
        "from sklearn.model_selection import train_test_split\n",
        "X_train1, X_test, y_train1, y_test = train_test_split(X, y, test_size = 0.2, random_state = 42)"
      ],
      "metadata": {
        "id": "ixn-uKl5rV4T"
      },
      "execution_count": 7,
      "outputs": []
    },
    {
      "cell_type": "code",
      "source": [
        "from sklearn.model_selection import train_test_split\n",
        "X_train, X_valid, y_train, y_valid = train_test_split(X_train1, y_train1, test_size = 0.2, random_state = 42)"
      ],
      "metadata": {
        "id": "-BpfRjDGrkph"
      },
      "execution_count": 8,
      "outputs": []
    },
    {
      "cell_type": "code",
      "source": [
        "from keras.models import Sequential\n",
        "from keras.layers.core import Dense, Activation, Dropout, Flatten\n",
        "from keras.layers.convolutional import Convolution2D, MaxPooling2D\n",
        "from tensorflow.keras.optimizers import Adam"
      ],
      "metadata": {
        "id": "dnyRGnV5r0O3"
      },
      "execution_count": 9,
      "outputs": []
    },
    {
      "cell_type": "code",
      "source": [
        "model=tf.keras.Sequential([\n",
        "    tf.keras.layers.Conv2D(128,(3,3), padding='same', activation=tf.nn.relu,input_shape=(64,64,3),kernel_regularizer=keras.regularizers.l2(0.05)),\n",
        "    tf.keras.layers.MaxPooling2D((2, 2), strides=2),\n",
        "    tf.keras.layers.Dropout(0.5),\n",
        "    tf.keras.layers.Conv2D(128, (3,3), padding='same', activation=tf.nn.relu,kernel_regularizer=keras.regularizers.l2(0.05)),\n",
        "    tf.keras.layers.MaxPooling2D((2, 2), strides=2),\n",
        "    tf.keras.layers.Dropout(0.5),\n",
        "    tf.keras.layers.Flatten(),\n",
        "    tf.keras.layers.Dense(128, activation=tf.nn.relu),\n",
        "    tf.keras.layers.Dense(7,  activation=tf.nn.softmax)\n",
        "])"
      ],
      "metadata": {
        "id": "dWTX4cOet2Ut"
      },
      "execution_count": 10,
      "outputs": []
    },
    {
      "cell_type": "code",
      "source": [
        "model.summary()"
      ],
      "metadata": {
        "colab": {
          "base_uri": "https://localhost:8080/"
        },
        "id": "-k2vyOm0uXMK",
        "outputId": "505a9d17-dcf3-4d46-84f4-2b8aec1cbaeb"
      },
      "execution_count": 11,
      "outputs": [
        {
          "output_type": "stream",
          "name": "stdout",
          "text": [
            "Model: \"sequential\"\n",
            "_________________________________________________________________\n",
            " Layer (type)                Output Shape              Param #   \n",
            "=================================================================\n",
            " conv2d (Conv2D)             (None, 64, 64, 128)       3584      \n",
            "                                                                 \n",
            " max_pooling2d (MaxPooling2D  (None, 32, 32, 128)      0         \n",
            " )                                                               \n",
            "                                                                 \n",
            " dropout (Dropout)           (None, 32, 32, 128)       0         \n",
            "                                                                 \n",
            " conv2d_1 (Conv2D)           (None, 32, 32, 128)       147584    \n",
            "                                                                 \n",
            " max_pooling2d_1 (MaxPooling  (None, 16, 16, 128)      0         \n",
            " 2D)                                                             \n",
            "                                                                 \n",
            " dropout_1 (Dropout)         (None, 16, 16, 128)       0         \n",
            "                                                                 \n",
            " flatten (Flatten)           (None, 32768)             0         \n",
            "                                                                 \n",
            " dense (Dense)               (None, 128)               4194432   \n",
            "                                                                 \n",
            " dense_1 (Dense)             (None, 7)                 903       \n",
            "                                                                 \n",
            "=================================================================\n",
            "Total params: 4,346,503\n",
            "Trainable params: 4,346,503\n",
            "Non-trainable params: 0\n",
            "_________________________________________________________________\n"
          ]
        }
      ]
    },
    {
      "cell_type": "code",
      "source": [
        "model.compile(optimizer='Adam',loss='sparse_categorical_crossentropy',metrics=['accuracy'])"
      ],
      "metadata": {
        "id": "deeziffhuatY"
      },
      "execution_count": 12,
      "outputs": []
    },
    {
      "cell_type": "code",
      "source": [
        "train_ds=tf.data.Dataset.from_tensor_slices((X_train,y_train))\n",
        "valid_ds=tf.data.Dataset.from_tensor_slices((X_valid,y_valid))\n",
        "test_ds=tf.data.Dataset.from_tensor_slices((X_test,y_test))"
      ],
      "metadata": {
        "id": "nUuzqnQUu3sG"
      },
      "execution_count": 13,
      "outputs": []
    },
    {
      "cell_type": "code",
      "source": [
        "history=model.fit(train_ds.batch(128),\n",
        "         epochs=60,\n",
        "         validation_data=valid_ds.batch(128))"
      ],
      "metadata": {
        "colab": {
          "base_uri": "https://localhost:8080/"
        },
        "id": "LwVtpXnguoIE",
        "outputId": "ddeb33c5-8edd-4617-e6af-1c2e356c6d97"
      },
      "execution_count": 14,
      "outputs": [
        {
          "output_type": "stream",
          "name": "stdout",
          "text": [
            "Epoch 1/60\n",
            "47/47 [==============================] - 16s 117ms/step - loss: 4.6968 - accuracy: 0.3509 - val_loss: 2.3317 - val_accuracy: 0.4709\n",
            "Epoch 2/60\n",
            "47/47 [==============================] - 5s 103ms/step - loss: 1.6948 - accuracy: 0.5466 - val_loss: 1.4474 - val_accuracy: 0.5771\n",
            "Epoch 3/60\n",
            "47/47 [==============================] - 5s 103ms/step - loss: 1.2887 - accuracy: 0.5789 - val_loss: 1.2992 - val_accuracy: 0.5575\n",
            "Epoch 4/60\n",
            "47/47 [==============================] - 5s 103ms/step - loss: 1.1583 - accuracy: 0.6035 - val_loss: 1.1561 - val_accuracy: 0.5656\n",
            "Epoch 5/60\n",
            "47/47 [==============================] - 5s 103ms/step - loss: 1.0915 - accuracy: 0.6251 - val_loss: 1.0987 - val_accuracy: 0.5846\n",
            "Epoch 6/60\n",
            "47/47 [==============================] - 5s 103ms/step - loss: 1.0407 - accuracy: 0.6461 - val_loss: 1.0631 - val_accuracy: 0.6191\n",
            "Epoch 7/60\n",
            "47/47 [==============================] - 5s 103ms/step - loss: 0.9949 - accuracy: 0.6698 - val_loss: 1.0308 - val_accuracy: 0.6265\n",
            "Epoch 8/60\n",
            "47/47 [==============================] - 5s 103ms/step - loss: 0.9412 - accuracy: 0.6889 - val_loss: 1.0387 - val_accuracy: 0.6191\n",
            "Epoch 9/60\n",
            "47/47 [==============================] - 5s 103ms/step - loss: 0.9039 - accuracy: 0.7002 - val_loss: 1.0341 - val_accuracy: 0.6292\n",
            "Epoch 10/60\n",
            "47/47 [==============================] - 5s 102ms/step - loss: 0.8915 - accuracy: 0.7072 - val_loss: 0.9956 - val_accuracy: 0.6313\n",
            "Epoch 11/60\n",
            "47/47 [==============================] - 5s 103ms/step - loss: 0.8708 - accuracy: 0.7122 - val_loss: 0.9788 - val_accuracy: 0.6353\n",
            "Epoch 12/60\n",
            "47/47 [==============================] - 5s 102ms/step - loss: 0.8506 - accuracy: 0.7146 - val_loss: 0.9143 - val_accuracy: 0.6529\n",
            "Epoch 13/60\n",
            "47/47 [==============================] - 5s 102ms/step - loss: 0.8305 - accuracy: 0.7251 - val_loss: 0.8854 - val_accuracy: 0.6779\n",
            "Epoch 14/60\n",
            "47/47 [==============================] - 5s 103ms/step - loss: 0.8008 - accuracy: 0.7344 - val_loss: 0.9420 - val_accuracy: 0.6461\n",
            "Epoch 15/60\n",
            "47/47 [==============================] - 5s 102ms/step - loss: 0.7947 - accuracy: 0.7361 - val_loss: 0.8414 - val_accuracy: 0.7057\n",
            "Epoch 16/60\n",
            "47/47 [==============================] - 5s 103ms/step - loss: 0.7751 - accuracy: 0.7429 - val_loss: 0.8340 - val_accuracy: 0.7050\n",
            "Epoch 17/60\n",
            "47/47 [==============================] - 5s 102ms/step - loss: 0.7487 - accuracy: 0.7511 - val_loss: 0.8697 - val_accuracy: 0.6793\n",
            "Epoch 18/60\n",
            "47/47 [==============================] - 5s 103ms/step - loss: 0.7617 - accuracy: 0.7434 - val_loss: 0.8030 - val_accuracy: 0.7172\n",
            "Epoch 19/60\n",
            "47/47 [==============================] - 5s 103ms/step - loss: 0.7482 - accuracy: 0.7464 - val_loss: 0.7913 - val_accuracy: 0.7300\n",
            "Epoch 20/60\n",
            "47/47 [==============================] - 5s 108ms/step - loss: 0.7214 - accuracy: 0.7576 - val_loss: 0.7897 - val_accuracy: 0.7219\n",
            "Epoch 21/60\n",
            "47/47 [==============================] - 5s 103ms/step - loss: 0.7160 - accuracy: 0.7604 - val_loss: 0.7823 - val_accuracy: 0.7348\n",
            "Epoch 22/60\n",
            "47/47 [==============================] - 5s 103ms/step - loss: 0.7003 - accuracy: 0.7689 - val_loss: 0.8041 - val_accuracy: 0.7070\n",
            "Epoch 23/60\n",
            "47/47 [==============================] - 5s 103ms/step - loss: 0.7160 - accuracy: 0.7559 - val_loss: 0.7653 - val_accuracy: 0.7341\n",
            "Epoch 24/60\n",
            "47/47 [==============================] - 5s 103ms/step - loss: 0.7158 - accuracy: 0.7582 - val_loss: 0.7128 - val_accuracy: 0.7598\n",
            "Epoch 25/60\n",
            "47/47 [==============================] - 5s 103ms/step - loss: 0.7047 - accuracy: 0.7582 - val_loss: 0.7092 - val_accuracy: 0.7564\n",
            "Epoch 26/60\n",
            "47/47 [==============================] - 5s 103ms/step - loss: 0.6811 - accuracy: 0.7718 - val_loss: 0.7244 - val_accuracy: 0.7429\n",
            "Epoch 27/60\n",
            "47/47 [==============================] - 5s 102ms/step - loss: 0.6898 - accuracy: 0.7613 - val_loss: 0.7468 - val_accuracy: 0.7273\n",
            "Epoch 28/60\n",
            "47/47 [==============================] - 5s 103ms/step - loss: 0.6835 - accuracy: 0.7696 - val_loss: 0.7123 - val_accuracy: 0.7558\n",
            "Epoch 29/60\n",
            "47/47 [==============================] - 5s 103ms/step - loss: 0.6695 - accuracy: 0.7743 - val_loss: 0.7058 - val_accuracy: 0.7632\n",
            "Epoch 30/60\n",
            "47/47 [==============================] - 5s 103ms/step - loss: 0.6549 - accuracy: 0.7821 - val_loss: 0.6989 - val_accuracy: 0.7625\n",
            "Epoch 31/60\n",
            "47/47 [==============================] - 5s 102ms/step - loss: 0.6618 - accuracy: 0.7721 - val_loss: 0.6838 - val_accuracy: 0.7618\n",
            "Epoch 32/60\n",
            "47/47 [==============================] - 5s 102ms/step - loss: 0.6442 - accuracy: 0.7807 - val_loss: 0.6953 - val_accuracy: 0.7524\n",
            "Epoch 33/60\n",
            "47/47 [==============================] - 5s 102ms/step - loss: 0.6552 - accuracy: 0.7765 - val_loss: 0.6873 - val_accuracy: 0.7652\n",
            "Epoch 34/60\n",
            "47/47 [==============================] - 5s 102ms/step - loss: 0.6347 - accuracy: 0.7794 - val_loss: 0.6644 - val_accuracy: 0.7713\n",
            "Epoch 35/60\n",
            "47/47 [==============================] - 5s 102ms/step - loss: 0.6313 - accuracy: 0.7851 - val_loss: 0.6598 - val_accuracy: 0.7747\n",
            "Epoch 36/60\n",
            "47/47 [==============================] - 5s 102ms/step - loss: 0.6179 - accuracy: 0.7892 - val_loss: 0.6520 - val_accuracy: 0.7760\n",
            "Epoch 37/60\n",
            "47/47 [==============================] - 5s 102ms/step - loss: 0.6163 - accuracy: 0.7911 - val_loss: 0.6450 - val_accuracy: 0.7767\n",
            "Epoch 38/60\n",
            "47/47 [==============================] - 5s 103ms/step - loss: 0.6157 - accuracy: 0.7892 - val_loss: 0.6446 - val_accuracy: 0.7693\n",
            "Epoch 39/60\n",
            "47/47 [==============================] - 5s 103ms/step - loss: 0.6065 - accuracy: 0.7909 - val_loss: 0.6437 - val_accuracy: 0.7686\n",
            "Epoch 40/60\n",
            "47/47 [==============================] - 5s 102ms/step - loss: 0.5981 - accuracy: 0.7943 - val_loss: 0.6429 - val_accuracy: 0.7740\n",
            "Epoch 41/60\n",
            "47/47 [==============================] - 5s 102ms/step - loss: 0.5892 - accuracy: 0.7978 - val_loss: 0.6288 - val_accuracy: 0.7781\n",
            "Epoch 42/60\n",
            "47/47 [==============================] - 5s 103ms/step - loss: 0.5936 - accuracy: 0.7975 - val_loss: 0.6261 - val_accuracy: 0.7767\n",
            "Epoch 43/60\n",
            "47/47 [==============================] - 5s 103ms/step - loss: 0.5776 - accuracy: 0.8031 - val_loss: 0.6395 - val_accuracy: 0.7821\n",
            "Epoch 44/60\n",
            "47/47 [==============================] - 5s 103ms/step - loss: 0.5778 - accuracy: 0.8066 - val_loss: 0.6204 - val_accuracy: 0.7963\n",
            "Epoch 45/60\n",
            "47/47 [==============================] - 5s 102ms/step - loss: 0.6072 - accuracy: 0.7950 - val_loss: 0.6360 - val_accuracy: 0.7781\n",
            "Epoch 46/60\n",
            "47/47 [==============================] - 5s 103ms/step - loss: 0.5845 - accuracy: 0.7992 - val_loss: 0.6492 - val_accuracy: 0.7774\n",
            "Epoch 47/60\n",
            "47/47 [==============================] - 5s 103ms/step - loss: 0.5694 - accuracy: 0.8092 - val_loss: 0.6262 - val_accuracy: 0.7869\n",
            "Epoch 48/60\n",
            "47/47 [==============================] - 5s 102ms/step - loss: 0.5950 - accuracy: 0.7929 - val_loss: 0.6379 - val_accuracy: 0.7828\n",
            "Epoch 49/60\n",
            "47/47 [==============================] - 5s 103ms/step - loss: 0.5829 - accuracy: 0.8034 - val_loss: 0.6335 - val_accuracy: 0.7828\n",
            "Epoch 50/60\n",
            "47/47 [==============================] - 5s 102ms/step - loss: 0.5748 - accuracy: 0.8054 - val_loss: 0.6123 - val_accuracy: 0.7882\n",
            "Epoch 51/60\n",
            "47/47 [==============================] - 5s 103ms/step - loss: 0.5825 - accuracy: 0.8005 - val_loss: 0.6390 - val_accuracy: 0.7821\n",
            "Epoch 52/60\n",
            "47/47 [==============================] - 5s 102ms/step - loss: 0.5804 - accuracy: 0.8061 - val_loss: 0.6487 - val_accuracy: 0.7747\n",
            "Epoch 53/60\n",
            "47/47 [==============================] - 5s 103ms/step - loss: 0.5558 - accuracy: 0.8132 - val_loss: 0.6171 - val_accuracy: 0.7896\n",
            "Epoch 54/60\n",
            "47/47 [==============================] - 5s 102ms/step - loss: 0.5724 - accuracy: 0.8063 - val_loss: 0.6546 - val_accuracy: 0.7686\n",
            "Epoch 55/60\n",
            "47/47 [==============================] - 5s 103ms/step - loss: 0.5594 - accuracy: 0.8115 - val_loss: 0.6042 - val_accuracy: 0.7991\n",
            "Epoch 56/60\n",
            "47/47 [==============================] - 5s 103ms/step - loss: 0.5436 - accuracy: 0.8170 - val_loss: 0.6129 - val_accuracy: 0.7923\n",
            "Epoch 57/60\n",
            "47/47 [==============================] - 5s 102ms/step - loss: 0.5448 - accuracy: 0.8156 - val_loss: 0.6138 - val_accuracy: 0.7923\n",
            "Epoch 58/60\n",
            "47/47 [==============================] - 5s 102ms/step - loss: 0.5505 - accuracy: 0.8144 - val_loss: 0.5981 - val_accuracy: 0.8018\n",
            "Epoch 59/60\n",
            "47/47 [==============================] - 5s 103ms/step - loss: 0.5494 - accuracy: 0.8132 - val_loss: 0.6108 - val_accuracy: 0.7869\n",
            "Epoch 60/60\n",
            "47/47 [==============================] - 5s 103ms/step - loss: 0.5473 - accuracy: 0.8119 - val_loss: 0.5976 - val_accuracy: 0.8004\n"
          ]
        }
      ]
    },
    {
      "cell_type": "code",
      "source": [
        "import matplotlib.pyplot as plt\n",
        "plt.plot(history.history['accuracy'],label='Training Data')\n",
        "plt.plot(history.history['val_accuracy'],label='Validation Data')\n",
        "plt.xlabel('Epochs')\n",
        "plt.ylabel('Accuracy')\n",
        "plt.legend(loc='upper left')\n",
        "plt.show()"
      ],
      "metadata": {
        "colab": {
          "base_uri": "https://localhost:8080/",
          "height": 279
        },
        "id": "Gi8T3-W3H9jP",
        "outputId": "f839a667-0f31-405e-8da1-4cdccafe10a9"
      },
      "execution_count": 15,
      "outputs": [
        {
          "output_type": "display_data",
          "data": {
            "text/plain": [
              "<Figure size 432x288 with 1 Axes>"
            ],
            "image/png": "[encoded data removed]"
          },
          "metadata": {
            "needs_background": "light"
          }
        }
      ]
    },
    {
      "cell_type": "code",
      "source": [
        "X_test=np.array(X_test)\n",
        "y_test=np.array(y_test)"
      ],
      "metadata": {
        "id": "_gs2fpuwK6MS"
      },
      "execution_count": 16,
      "outputs": []
    },
    {
      "cell_type": "code",
      "source": [
        "model.evaluate(X_test,y_test)"
      ],
      "metadata": {
        "colab": {
          "base_uri": "https://localhost:8080/"
        },
        "id": "Jjc_cgGtLx3I",
        "outputId": "df07c0d9-c767-48ac-c69b-6b5d496fc85f"
      },
      "execution_count": 17,
      "outputs": [
        {
          "output_type": "stream",
          "name": "stdout",
          "text": [
            "58/58 [==============================] - 1s 14ms/step - loss: 0.5521 - accuracy: 0.8214\n"
          ]
        },
        {
          "output_type": "execute_result",
          "data": {
            "text/plain": [
              "[0.5520732998847961, 0.8214285969734192]"
            ]
          },
          "metadata": {},
          "execution_count": 17
        }
      ]
    },
    {
      "cell_type": "code",
      "source": [
        "converter=tf.lite.TFLiteConverter.from_keras_model(model)\n",
        "tflite_model=converter.convert()\n",
        "\n",
        "with open('model.tflite','wb') as f:\n",
        "  f.write(tflite_model)"
      ],
      "metadata": {
        "colab": {
          "base_uri": "https://localhost:8080/"
        },
        "id": "xgWilBYv9eYE",
        "outputId": "c0be2254-e0c1-482b-a02d-c73c92a27676"
      },
      "execution_count": 44,
      "outputs": [
        {
          "output_type": "stream",
          "name": "stdout",
          "text": [
            "INFO:tensorflow:Assets written to: /tmp/tmp9b5u8t0c/assets\n"
          ]
        },
        {
          "output_type": "stream",
          "name": "stderr",
          "text": [
            "WARNING:absl:Buffer deduplication procedure will be skipped when flatbuffer library is not properly loaded\n"
          ]
        }
      ]
    },
    {
      "cell_type": "code",
      "source": [
        "model1=tf.keras.Sequential([\n",
        "    tf.keras.layers.Conv2D(128,(3,3), padding='same', activation=tf.nn.relu,input_shape=(64,64,3)),\n",
        "    tf.keras.layers.MaxPooling2D((2, 2), strides=2),\n",
        "    tf.keras.layers.Dropout(0.5),\n",
        "    tf.keras.layers.Conv2D(128, (3,3), padding='same', activation=tf.nn.relu),\n",
        "    tf.keras.layers.MaxPooling2D((2, 2), strides=2),\n",
        "    tf.keras.layers.Dropout(0.5),\n",
        "    tf.keras.layers.Flatten(),\n",
        "    tf.keras.layers.Dense(128, activation=tf.nn.relu),\n",
        "    tf.keras.layers.Dense(7,  activation=tf.nn.softmax)\n",
        "])"
      ],
      "metadata": {
        "id": "0x-2N1K7JfdZ"
      },
      "execution_count": 18,
      "outputs": []
    },
    {
      "cell_type": "code",
      "source": [
        "model1.summary()"
      ],
      "metadata": {
        "colab": {
          "base_uri": "https://localhost:8080/"
        },
        "id": "dH9uIy7dJps_",
        "outputId": "1eb7617e-4c9b-4e09-d7cf-74a85358f2e2"
      },
      "execution_count": 19,
      "outputs": [
        {
          "output_type": "stream",
          "name": "stdout",
          "text": [
            "Model: \"sequential_1\"\n",
            "_________________________________________________________________\n",
            " Layer (type)                Output Shape              Param #   \n",
            "=================================================================\n",
            " conv2d_2 (Conv2D)           (None, 64, 64, 128)       3584      \n",
            "                                                                 \n",
            " max_pooling2d_2 (MaxPooling  (None, 32, 32, 128)      0         \n",
            " 2D)                                                             \n",
            "                                                                 \n",
            " dropout_2 (Dropout)         (None, 32, 32, 128)       0         \n",
            "                                                                 \n",
            " conv2d_3 (Conv2D)           (None, 32, 32, 128)       147584    \n",
            "                                                                 \n",
            " max_pooling2d_3 (MaxPooling  (None, 16, 16, 128)      0         \n",
            " 2D)                                                             \n",
            "                                                                 \n",
            " dropout_3 (Dropout)         (None, 16, 16, 128)       0         \n",
            "                                                                 \n",
            " flatten_1 (Flatten)         (None, 32768)             0         \n",
            "                                                                 \n",
            " dense_2 (Dense)             (None, 128)               4194432   \n",
            "                                                                 \n",
            " dense_3 (Dense)             (None, 7)                 903       \n",
            "                                                                 \n",
            "=================================================================\n",
            "Total params: 4,346,503\n",
            "Trainable params: 4,346,503\n",
            "Non-trainable params: 0\n",
            "_________________________________________________________________\n"
          ]
        }
      ]
    },
    {
      "cell_type": "code",
      "source": [
        "model1.compile(optimizer='Adam',loss='sparse_categorical_crossentropy',metrics=['accuracy'])"
      ],
      "metadata": {
        "id": "kiPUY9ycJsJD"
      },
      "execution_count": 20,
      "outputs": []
    },
    {
      "cell_type": "code",
      "source": [
        "history1=model1.fit(train_ds.batch(128),\n",
        "         epochs=60,\n",
        "         validation_data=valid_ds.batch(128))"
      ],
      "metadata": {
        "colab": {
          "base_uri": "https://localhost:8080/"
        },
        "id": "Rp-75EXSJy1F",
        "outputId": "29378380-2fcf-4413-b1e5-67de657e638f"
      },
      "execution_count": 21,
      "outputs": [
        {
          "output_type": "stream",
          "name": "stdout",
          "text": [
            "Epoch 1/60\n",
            "47/47 [==============================] - 5s 105ms/step - loss: 1.8705 - accuracy: 0.2521 - val_loss: 1.6058 - val_accuracy: 0.3796\n",
            "Epoch 2/60\n",
            "47/47 [==============================] - 5s 102ms/step - loss: 1.1971 - accuracy: 0.5141 - val_loss: 1.0320 - val_accuracy: 0.5731\n",
            "Epoch 3/60\n",
            "47/47 [==============================] - 5s 103ms/step - loss: 0.9368 - accuracy: 0.6285 - val_loss: 0.9127 - val_accuracy: 0.6211\n",
            "Epoch 4/60\n",
            "47/47 [==============================] - 5s 102ms/step - loss: 0.8272 - accuracy: 0.6735 - val_loss: 0.8842 - val_accuracy: 0.6272\n",
            "Epoch 5/60\n",
            "47/47 [==============================] - 5s 102ms/step - loss: 0.7279 - accuracy: 0.7107 - val_loss: 0.8406 - val_accuracy: 0.6360\n",
            "Epoch 6/60\n",
            "47/47 [==============================] - 5s 102ms/step - loss: 0.6880 - accuracy: 0.7232 - val_loss: 0.7296 - val_accuracy: 0.7111\n",
            "Epoch 7/60\n",
            "47/47 [==============================] - 5s 102ms/step - loss: 0.6471 - accuracy: 0.7364 - val_loss: 0.6671 - val_accuracy: 0.7240\n",
            "Epoch 8/60\n",
            "47/47 [==============================] - 5s 102ms/step - loss: 0.6012 - accuracy: 0.7530 - val_loss: 0.7602 - val_accuracy: 0.6861\n",
            "Epoch 9/60\n",
            "47/47 [==============================] - 5s 102ms/step - loss: 0.5630 - accuracy: 0.7701 - val_loss: 0.6567 - val_accuracy: 0.7321\n",
            "Epoch 10/60\n",
            "47/47 [==============================] - 5s 103ms/step - loss: 0.5337 - accuracy: 0.7804 - val_loss: 0.6979 - val_accuracy: 0.7179\n",
            "Epoch 11/60\n",
            "47/47 [==============================] - 5s 103ms/step - loss: 0.5019 - accuracy: 0.7931 - val_loss: 0.6323 - val_accuracy: 0.7564\n",
            "Epoch 12/60\n",
            "47/47 [==============================] - 5s 103ms/step - loss: 0.4879 - accuracy: 0.8014 - val_loss: 0.6331 - val_accuracy: 0.7449\n",
            "Epoch 13/60\n",
            "47/47 [==============================] - 5s 102ms/step - loss: 0.4597 - accuracy: 0.8136 - val_loss: 0.5965 - val_accuracy: 0.7673\n",
            "Epoch 14/60\n",
            "47/47 [==============================] - 5s 103ms/step - loss: 0.4338 - accuracy: 0.8222 - val_loss: 0.5562 - val_accuracy: 0.7794\n",
            "Epoch 15/60\n",
            "47/47 [==============================] - 5s 103ms/step - loss: 0.4211 - accuracy: 0.8291 - val_loss: 0.5520 - val_accuracy: 0.7862\n",
            "Epoch 16/60\n",
            "47/47 [==============================] - 5s 102ms/step - loss: 0.4048 - accuracy: 0.8318 - val_loss: 0.5372 - val_accuracy: 0.7984\n",
            "Epoch 17/60\n",
            "47/47 [==============================] - 5s 103ms/step - loss: 0.3890 - accuracy: 0.8395 - val_loss: 0.5395 - val_accuracy: 0.7882\n",
            "Epoch 18/60\n",
            "47/47 [==============================] - 5s 102ms/step - loss: 0.3750 - accuracy: 0.8439 - val_loss: 0.5134 - val_accuracy: 0.7991\n",
            "Epoch 19/60\n",
            "47/47 [==============================] - 5s 102ms/step - loss: 0.3712 - accuracy: 0.8494 - val_loss: 0.5057 - val_accuracy: 0.7997\n",
            "Epoch 20/60\n",
            "47/47 [==============================] - 5s 102ms/step - loss: 0.3479 - accuracy: 0.8570 - val_loss: 0.5367 - val_accuracy: 0.7916\n",
            "Epoch 21/60\n",
            "47/47 [==============================] - 5s 102ms/step - loss: 0.3443 - accuracy: 0.8581 - val_loss: 0.5292 - val_accuracy: 0.7930\n",
            "Epoch 22/60\n",
            "47/47 [==============================] - 5s 103ms/step - loss: 0.3298 - accuracy: 0.8603 - val_loss: 0.4988 - val_accuracy: 0.7957\n",
            "Epoch 23/60\n",
            "47/47 [==============================] - 5s 102ms/step - loss: 0.3360 - accuracy: 0.8589 - val_loss: 0.5305 - val_accuracy: 0.7977\n",
            "Epoch 24/60\n",
            "47/47 [==============================] - 5s 103ms/step - loss: 0.3307 - accuracy: 0.8660 - val_loss: 0.5274 - val_accuracy: 0.7950\n",
            "Epoch 25/60\n",
            "47/47 [==============================] - 5s 102ms/step - loss: 0.3104 - accuracy: 0.8701 - val_loss: 0.5108 - val_accuracy: 0.7943\n",
            "Epoch 26/60\n",
            "47/47 [==============================] - 5s 102ms/step - loss: 0.3228 - accuracy: 0.8691 - val_loss: 0.5033 - val_accuracy: 0.8051\n",
            "Epoch 27/60\n",
            "47/47 [==============================] - 5s 103ms/step - loss: 0.3135 - accuracy: 0.8733 - val_loss: 0.5040 - val_accuracy: 0.8085\n",
            "Epoch 28/60\n",
            "47/47 [==============================] - 5s 102ms/step - loss: 0.2971 - accuracy: 0.8757 - val_loss: 0.4824 - val_accuracy: 0.8038\n",
            "Epoch 29/60\n",
            "47/47 [==============================] - 5s 103ms/step - loss: 0.2809 - accuracy: 0.8877 - val_loss: 0.5030 - val_accuracy: 0.8058\n",
            "Epoch 30/60\n",
            "47/47 [==============================] - 5s 103ms/step - loss: 0.2843 - accuracy: 0.8846 - val_loss: 0.5285 - val_accuracy: 0.8018\n",
            "Epoch 31/60\n",
            "47/47 [==============================] - 5s 102ms/step - loss: 0.2683 - accuracy: 0.8882 - val_loss: 0.5053 - val_accuracy: 0.8078\n",
            "Epoch 32/60\n",
            "47/47 [==============================] - 5s 103ms/step - loss: 0.2606 - accuracy: 0.8943 - val_loss: 0.5329 - val_accuracy: 0.8099\n",
            "Epoch 33/60\n",
            "47/47 [==============================] - 5s 103ms/step - loss: 0.2488 - accuracy: 0.8997 - val_loss: 0.5163 - val_accuracy: 0.8112\n",
            "Epoch 34/60\n",
            "47/47 [==============================] - 5s 102ms/step - loss: 0.2400 - accuracy: 0.8990 - val_loss: 0.5051 - val_accuracy: 0.8112\n",
            "Epoch 35/60\n",
            "47/47 [==============================] - 5s 102ms/step - loss: 0.2330 - accuracy: 0.9034 - val_loss: 0.5327 - val_accuracy: 0.8112\n",
            "Epoch 36/60\n",
            "47/47 [==============================] - 5s 103ms/step - loss: 0.2332 - accuracy: 0.9009 - val_loss: 0.5444 - val_accuracy: 0.8099\n",
            "Epoch 37/60\n",
            "47/47 [==============================] - 5s 103ms/step - loss: 0.2301 - accuracy: 0.9039 - val_loss: 0.5574 - val_accuracy: 0.8092\n",
            "Epoch 38/60\n",
            "47/47 [==============================] - 5s 103ms/step - loss: 0.2171 - accuracy: 0.9105 - val_loss: 0.5426 - val_accuracy: 0.8085\n",
            "Epoch 39/60\n",
            "47/47 [==============================] - 5s 103ms/step - loss: 0.2200 - accuracy: 0.9086 - val_loss: 0.5698 - val_accuracy: 0.8045\n",
            "Epoch 40/60\n",
            "47/47 [==============================] - 5s 103ms/step - loss: 0.2170 - accuracy: 0.9169 - val_loss: 0.5817 - val_accuracy: 0.8031\n",
            "Epoch 41/60\n",
            "47/47 [==============================] - 5s 103ms/step - loss: 0.2101 - accuracy: 0.9173 - val_loss: 0.6051 - val_accuracy: 0.8072\n",
            "Epoch 42/60\n",
            "47/47 [==============================] - 5s 103ms/step - loss: 0.2052 - accuracy: 0.9166 - val_loss: 0.6053 - val_accuracy: 0.8106\n",
            "Epoch 43/60\n",
            "47/47 [==============================] - 5s 102ms/step - loss: 0.1976 - accuracy: 0.9191 - val_loss: 0.6051 - val_accuracy: 0.8051\n",
            "Epoch 44/60\n",
            "47/47 [==============================] - 5s 103ms/step - loss: 0.1899 - accuracy: 0.9229 - val_loss: 0.6166 - val_accuracy: 0.8139\n",
            "Epoch 45/60\n",
            "47/47 [==============================] - 5s 103ms/step - loss: 0.1792 - accuracy: 0.9313 - val_loss: 0.6467 - val_accuracy: 0.8011\n",
            "Epoch 46/60\n",
            "47/47 [==============================] - 5s 102ms/step - loss: 0.1972 - accuracy: 0.9242 - val_loss: 0.6807 - val_accuracy: 0.8011\n",
            "Epoch 47/60\n",
            "47/47 [==============================] - 5s 102ms/step - loss: 0.1737 - accuracy: 0.9320 - val_loss: 0.6484 - val_accuracy: 0.8085\n",
            "Epoch 48/60\n",
            "47/47 [==============================] - 5s 103ms/step - loss: 0.1846 - accuracy: 0.9298 - val_loss: 0.6495 - val_accuracy: 0.8004\n",
            "Epoch 49/60\n",
            "47/47 [==============================] - 5s 103ms/step - loss: 0.1697 - accuracy: 0.9317 - val_loss: 0.7177 - val_accuracy: 0.7916\n",
            "Epoch 50/60\n",
            "47/47 [==============================] - 5s 103ms/step - loss: 0.1614 - accuracy: 0.9349 - val_loss: 0.6514 - val_accuracy: 0.8031\n",
            "Epoch 51/60\n",
            "47/47 [==============================] - 5s 103ms/step - loss: 0.1543 - accuracy: 0.9401 - val_loss: 0.6896 - val_accuracy: 0.8045\n",
            "Epoch 52/60\n",
            "47/47 [==============================] - 5s 103ms/step - loss: 0.1522 - accuracy: 0.9416 - val_loss: 0.7088 - val_accuracy: 0.7970\n",
            "Epoch 53/60\n",
            "47/47 [==============================] - 5s 103ms/step - loss: 0.1435 - accuracy: 0.9421 - val_loss: 0.7832 - val_accuracy: 0.7991\n",
            "Epoch 54/60\n",
            "47/47 [==============================] - 5s 102ms/step - loss: 0.1489 - accuracy: 0.9460 - val_loss: 0.6753 - val_accuracy: 0.8112\n",
            "Epoch 55/60\n",
            "47/47 [==============================] - 5s 103ms/step - loss: 0.1482 - accuracy: 0.9432 - val_loss: 0.8199 - val_accuracy: 0.7977\n",
            "Epoch 56/60\n",
            "47/47 [==============================] - 5s 103ms/step - loss: 0.1427 - accuracy: 0.9448 - val_loss: 0.7834 - val_accuracy: 0.8031\n",
            "Epoch 57/60\n",
            "47/47 [==============================] - 5s 103ms/step - loss: 0.1479 - accuracy: 0.9413 - val_loss: 0.8060 - val_accuracy: 0.8004\n",
            "Epoch 58/60\n",
            "47/47 [==============================] - 5s 103ms/step - loss: 0.1456 - accuracy: 0.9448 - val_loss: 0.7671 - val_accuracy: 0.8018\n",
            "Epoch 59/60\n",
            "47/47 [==============================] - 5s 103ms/step - loss: 0.1561 - accuracy: 0.9398 - val_loss: 0.7629 - val_accuracy: 0.7997\n",
            "Epoch 60/60\n",
            "47/47 [==============================] - 5s 103ms/step - loss: 0.1300 - accuracy: 0.9504 - val_loss: 0.7651 - val_accuracy: 0.8112\n"
          ]
        }
      ]
    },
    {
      "cell_type": "code",
      "source": [
        "plt.plot(history1.history['accuracy'],label='Training Data')\n",
        "plt.plot(history1.history['val_accuracy'],label='Validation Data')\n",
        "plt.xlabel('Epochs')\n",
        "plt.ylabel('Accuracy')\n",
        "plt.legend(loc='upper left')\n",
        "plt.show()"
      ],
      "metadata": {
        "colab": {
          "base_uri": "https://localhost:8080/",
          "height": 279
        },
        "id": "cWc--eZqJ77j",
        "outputId": "ee5d2418-76c9-424e-c7fc-6a47e979595e"
      },
      "execution_count": 22,
      "outputs": [
        {
          "output_type": "display_data",
          "data": {
            "text/plain": [
              "<Figure size 432x288 with 1 Axes>"
            ],
            "image/png": "[encoded data removed]"
          },
          "metadata": {
            "needs_background": "light"
          }
        }
      ]
    },
    {
      "cell_type": "code",
      "source": [
        "model1.evaluate(X_test,y_test)"
      ],
      "metadata": {
        "colab": {
          "base_uri": "https://localhost:8080/"
        },
        "id": "-tfWIGgzL4gp",
        "outputId": "3bf6ed3c-00d8-494d-8c20-d177b1776efc"
      },
      "execution_count": 23,
      "outputs": [
        {
          "output_type": "stream",
          "name": "stdout",
          "text": [
            "58/58 [==============================] - 1s 12ms/step - loss: 0.7098 - accuracy: 0.8074\n"
          ]
        },
        {
          "output_type": "execute_result",
          "data": {
            "text/plain": [
              "[0.7098102569580078, 0.8073592782020569]"
            ]
          },
          "metadata": {},
          "execution_count": 23
        }
      ]
    },
    {
      "cell_type": "code",
      "source": [
        "model2=tf.keras.Sequential([\n",
        "    tf.keras.layers.Conv2D(128,(3,3), padding='same', activation=tf.nn.relu,input_shape=(64,64,3)),\n",
        "    tf.keras.layers.MaxPooling2D((2, 2), strides=2),\n",
        "    tf.keras.layers.Dropout(0.5),\n",
        "    tf.keras.layers.Conv2D(128, (3,3), padding='same', activation=tf.nn.relu),\n",
        "    tf.keras.layers.MaxPooling2D((2, 2), strides=2),\n",
        "    tf.keras.layers.Dropout(0.5),\n",
        "    tf.keras.layers.Flatten(),\n",
        "    tf.keras.layers.Dense(128, activation=tf.nn.relu),\n",
        "    tf.keras.layers.Dropout(0.5),\n",
        "    tf.keras.layers.Dense(7,  activation=tf.nn.softmax)\n",
        "])"
      ],
      "metadata": {
        "id": "_ld1GrnWM2Nm"
      },
      "execution_count": 24,
      "outputs": []
    },
    {
      "cell_type": "code",
      "source": [
        "model2.summary()"
      ],
      "metadata": {
        "colab": {
          "base_uri": "https://localhost:8080/"
        },
        "id": "sBIat0W_M6aU",
        "outputId": "9a65d38e-018c-4ba9-e802-2fbe026232ab"
      },
      "execution_count": 25,
      "outputs": [
        {
          "output_type": "stream",
          "name": "stdout",
          "text": [
            "Model: \"sequential_2\"\n",
            "_________________________________________________________________\n",
            " Layer (type)                Output Shape              Param #   \n",
            "=================================================================\n",
            " conv2d_4 (Conv2D)           (None, 64, 64, 128)       3584      \n",
            "                                                                 \n",
            " max_pooling2d_4 (MaxPooling  (None, 32, 32, 128)      0         \n",
            " 2D)                                                             \n",
            "                                                                 \n",
            " dropout_4 (Dropout)         (None, 32, 32, 128)       0         \n",
            "                                                                 \n",
            " conv2d_5 (Conv2D)           (None, 32, 32, 128)       147584    \n",
            "                                                                 \n",
            " max_pooling2d_5 (MaxPooling  (None, 16, 16, 128)      0         \n",
            " 2D)                                                             \n",
            "                                                                 \n",
            " dropout_5 (Dropout)         (None, 16, 16, 128)       0         \n",
            "                                                                 \n",
            " flatten_2 (Flatten)         (None, 32768)             0         \n",
            "                                                                 \n",
            " dense_4 (Dense)             (None, 128)               4194432   \n",
            "                                                                 \n",
            " dropout_6 (Dropout)         (None, 128)               0         \n",
            "                                                                 \n",
            " dense_5 (Dense)             (None, 7)                 903       \n",
            "                                                                 \n",
            "=================================================================\n",
            "Total params: 4,346,503\n",
            "Trainable params: 4,346,503\n",
            "Non-trainable params: 0\n",
            "_________________________________________________________________\n"
          ]
        }
      ]
    },
    {
      "cell_type": "code",
      "source": [
        "model2.compile(optimizer='Adam',loss='sparse_categorical_crossentropy',metrics=['accuracy'])"
      ],
      "metadata": {
        "id": "oU_Xs25-M9j0"
      },
      "execution_count": 26,
      "outputs": []
    },
    {
      "cell_type": "code",
      "source": [
        "history2=model1.fit(train_ds.batch(128),\n",
        "         epochs=60,\n",
        "         validation_data=valid_ds.batch(128))"
      ],
      "metadata": {
        "colab": {
          "base_uri": "https://localhost:8080/"
        },
        "id": "h_MTRyEUNDck",
        "outputId": "21d87db6-2d18-480c-d855-c63f1d28aca2"
      },
      "execution_count": 27,
      "outputs": [
        {
          "output_type": "stream",
          "name": "stdout",
          "text": [
            "Epoch 1/60\n",
            "47/47 [==============================] - 5s 102ms/step - loss: 0.1244 - accuracy: 0.9520 - val_loss: 0.7771 - val_accuracy: 0.7997\n",
            "Epoch 2/60\n",
            "47/47 [==============================] - 5s 103ms/step - loss: 0.1311 - accuracy: 0.9508 - val_loss: 0.7640 - val_accuracy: 0.8045\n",
            "Epoch 3/60\n",
            "47/47 [==============================] - 5s 102ms/step - loss: 0.1226 - accuracy: 0.9535 - val_loss: 0.8076 - val_accuracy: 0.7963\n",
            "Epoch 4/60\n",
            "47/47 [==============================] - 5s 103ms/step - loss: 0.0999 - accuracy: 0.9640 - val_loss: 0.8790 - val_accuracy: 0.7970\n",
            "Epoch 5/60\n",
            "47/47 [==============================] - 5s 103ms/step - loss: 0.0984 - accuracy: 0.9619 - val_loss: 0.9193 - val_accuracy: 0.7923\n",
            "Epoch 6/60\n",
            "47/47 [==============================] - 5s 103ms/step - loss: 0.0958 - accuracy: 0.9655 - val_loss: 0.9195 - val_accuracy: 0.8024\n",
            "Epoch 7/60\n",
            "47/47 [==============================] - 5s 103ms/step - loss: 0.1202 - accuracy: 0.9548 - val_loss: 0.9216 - val_accuracy: 0.7943\n",
            "Epoch 8/60\n",
            "47/47 [==============================] - 5s 103ms/step - loss: 0.0963 - accuracy: 0.9643 - val_loss: 0.9458 - val_accuracy: 0.8051\n",
            "Epoch 9/60\n",
            "47/47 [==============================] - 5s 103ms/step - loss: 0.0995 - accuracy: 0.9633 - val_loss: 0.9597 - val_accuracy: 0.7943\n",
            "Epoch 10/60\n",
            "47/47 [==============================] - 5s 103ms/step - loss: 0.0932 - accuracy: 0.9667 - val_loss: 0.8521 - val_accuracy: 0.8106\n",
            "Epoch 11/60\n",
            "47/47 [==============================] - 5s 103ms/step - loss: 0.0967 - accuracy: 0.9651 - val_loss: 0.9148 - val_accuracy: 0.7963\n",
            "Epoch 12/60\n",
            "47/47 [==============================] - 5s 103ms/step - loss: 0.0921 - accuracy: 0.9685 - val_loss: 0.9018 - val_accuracy: 0.8031\n",
            "Epoch 13/60\n",
            "47/47 [==============================] - 5s 103ms/step - loss: 0.0855 - accuracy: 0.9668 - val_loss: 0.9564 - val_accuracy: 0.8072\n",
            "Epoch 14/60\n",
            "47/47 [==============================] - 5s 103ms/step - loss: 0.0870 - accuracy: 0.9655 - val_loss: 0.8880 - val_accuracy: 0.8153\n",
            "Epoch 15/60\n",
            "47/47 [==============================] - 5s 102ms/step - loss: 0.0703 - accuracy: 0.9765 - val_loss: 0.9583 - val_accuracy: 0.7997\n",
            "Epoch 16/60\n",
            "47/47 [==============================] - 5s 102ms/step - loss: 0.0719 - accuracy: 0.9761 - val_loss: 0.9549 - val_accuracy: 0.8018\n",
            "Epoch 17/60\n",
            "47/47 [==============================] - 5s 102ms/step - loss: 0.0786 - accuracy: 0.9699 - val_loss: 1.0426 - val_accuracy: 0.8011\n",
            "Epoch 18/60\n",
            "47/47 [==============================] - 5s 102ms/step - loss: 0.0749 - accuracy: 0.9723 - val_loss: 0.9715 - val_accuracy: 0.8004\n",
            "Epoch 19/60\n",
            "47/47 [==============================] - 5s 102ms/step - loss: 0.0729 - accuracy: 0.9729 - val_loss: 0.9783 - val_accuracy: 0.7984\n",
            "Epoch 20/60\n",
            "47/47 [==============================] - 5s 102ms/step - loss: 0.0643 - accuracy: 0.9765 - val_loss: 1.0007 - val_accuracy: 0.8018\n",
            "Epoch 21/60\n",
            "47/47 [==============================] - 5s 102ms/step - loss: 0.0700 - accuracy: 0.9756 - val_loss: 1.0008 - val_accuracy: 0.8018\n",
            "Epoch 22/60\n",
            "47/47 [==============================] - 5s 103ms/step - loss: 0.0799 - accuracy: 0.9704 - val_loss: 1.0316 - val_accuracy: 0.8024\n",
            "Epoch 23/60\n",
            "47/47 [==============================] - 5s 102ms/step - loss: 0.0704 - accuracy: 0.9736 - val_loss: 1.0748 - val_accuracy: 0.7984\n",
            "Epoch 24/60\n",
            "47/47 [==============================] - 5s 103ms/step - loss: 0.0688 - accuracy: 0.9748 - val_loss: 0.9847 - val_accuracy: 0.7970\n",
            "Epoch 25/60\n",
            "47/47 [==============================] - 5s 103ms/step - loss: 0.0743 - accuracy: 0.9743 - val_loss: 1.0680 - val_accuracy: 0.7991\n",
            "Epoch 26/60\n",
            "47/47 [==============================] - 5s 103ms/step - loss: 0.0610 - accuracy: 0.9780 - val_loss: 1.0126 - val_accuracy: 0.8085\n",
            "Epoch 27/60\n",
            "47/47 [==============================] - 5s 103ms/step - loss: 0.0531 - accuracy: 0.9802 - val_loss: 1.0569 - val_accuracy: 0.8038\n",
            "Epoch 28/60\n",
            "47/47 [==============================] - 5s 102ms/step - loss: 0.0591 - accuracy: 0.9785 - val_loss: 1.0719 - val_accuracy: 0.8078\n",
            "Epoch 29/60\n",
            "47/47 [==============================] - 5s 102ms/step - loss: 0.0696 - accuracy: 0.9755 - val_loss: 1.1390 - val_accuracy: 0.7984\n",
            "Epoch 30/60\n",
            "47/47 [==============================] - 5s 103ms/step - loss: 0.0660 - accuracy: 0.9773 - val_loss: 1.1231 - val_accuracy: 0.7970\n",
            "Epoch 31/60\n",
            "47/47 [==============================] - 5s 103ms/step - loss: 0.0712 - accuracy: 0.9756 - val_loss: 1.0644 - val_accuracy: 0.8092\n",
            "Epoch 32/60\n",
            "47/47 [==============================] - 5s 102ms/step - loss: 0.0682 - accuracy: 0.9756 - val_loss: 1.0596 - val_accuracy: 0.7916\n",
            "Epoch 33/60\n",
            "47/47 [==============================] - 5s 102ms/step - loss: 0.0660 - accuracy: 0.9778 - val_loss: 1.1112 - val_accuracy: 0.8004\n",
            "Epoch 34/60\n",
            "47/47 [==============================] - 5s 102ms/step - loss: 0.0530 - accuracy: 0.9817 - val_loss: 1.1262 - val_accuracy: 0.7997\n",
            "Epoch 35/60\n",
            "47/47 [==============================] - 5s 103ms/step - loss: 0.0565 - accuracy: 0.9799 - val_loss: 1.1547 - val_accuracy: 0.8024\n",
            "Epoch 36/60\n",
            "47/47 [==============================] - 5s 103ms/step - loss: 0.0614 - accuracy: 0.9789 - val_loss: 1.0793 - val_accuracy: 0.8051\n",
            "Epoch 37/60\n",
            "47/47 [==============================] - 5s 103ms/step - loss: 0.0588 - accuracy: 0.9789 - val_loss: 1.1215 - val_accuracy: 0.8045\n",
            "Epoch 38/60\n",
            "47/47 [==============================] - 5s 103ms/step - loss: 0.0663 - accuracy: 0.9760 - val_loss: 1.1010 - val_accuracy: 0.8038\n",
            "Epoch 39/60\n",
            "47/47 [==============================] - 5s 102ms/step - loss: 0.0560 - accuracy: 0.9799 - val_loss: 1.0784 - val_accuracy: 0.8078\n",
            "Epoch 40/60\n",
            "47/47 [==============================] - 5s 103ms/step - loss: 0.0640 - accuracy: 0.9790 - val_loss: 1.1540 - val_accuracy: 0.8038\n",
            "Epoch 41/60\n",
            "47/47 [==============================] - 5s 102ms/step - loss: 0.0514 - accuracy: 0.9819 - val_loss: 1.1725 - val_accuracy: 0.7984\n",
            "Epoch 42/60\n",
            "47/47 [==============================] - 5s 102ms/step - loss: 0.0586 - accuracy: 0.9790 - val_loss: 1.0363 - val_accuracy: 0.8011\n",
            "Epoch 43/60\n",
            "47/47 [==============================] - 5s 102ms/step - loss: 0.0586 - accuracy: 0.9789 - val_loss: 1.1760 - val_accuracy: 0.8011\n",
            "Epoch 44/60\n",
            "47/47 [==============================] - 5s 103ms/step - loss: 0.0582 - accuracy: 0.9822 - val_loss: 1.0241 - val_accuracy: 0.8045\n",
            "Epoch 45/60\n",
            "47/47 [==============================] - 5s 103ms/step - loss: 0.0404 - accuracy: 0.9849 - val_loss: 1.1107 - val_accuracy: 0.8126\n",
            "Epoch 46/60\n",
            "47/47 [==============================] - 5s 103ms/step - loss: 0.0475 - accuracy: 0.9822 - val_loss: 1.2339 - val_accuracy: 0.8065\n",
            "Epoch 47/60\n",
            "47/47 [==============================] - 5s 103ms/step - loss: 0.0352 - accuracy: 0.9885 - val_loss: 1.1274 - val_accuracy: 0.8106\n",
            "Epoch 48/60\n",
            "47/47 [==============================] - 5s 103ms/step - loss: 0.0470 - accuracy: 0.9836 - val_loss: 1.2160 - val_accuracy: 0.8106\n",
            "Epoch 49/60\n",
            "47/47 [==============================] - 5s 103ms/step - loss: 0.0495 - accuracy: 0.9844 - val_loss: 1.2132 - val_accuracy: 0.8106\n",
            "Epoch 50/60\n",
            "47/47 [==============================] - 5s 102ms/step - loss: 0.0453 - accuracy: 0.9827 - val_loss: 1.1147 - val_accuracy: 0.8078\n",
            "Epoch 51/60\n",
            "47/47 [==============================] - 5s 103ms/step - loss: 0.0360 - accuracy: 0.9880 - val_loss: 1.2095 - val_accuracy: 0.8112\n",
            "Epoch 52/60\n",
            "47/47 [==============================] - 5s 103ms/step - loss: 0.0514 - accuracy: 0.9829 - val_loss: 1.2386 - val_accuracy: 0.8051\n",
            "Epoch 53/60\n",
            "47/47 [==============================] - 5s 103ms/step - loss: 0.0461 - accuracy: 0.9861 - val_loss: 1.1292 - val_accuracy: 0.8072\n",
            "Epoch 54/60\n",
            "47/47 [==============================] - 5s 103ms/step - loss: 0.0524 - accuracy: 0.9821 - val_loss: 1.0959 - val_accuracy: 0.8119\n",
            "Epoch 55/60\n",
            "47/47 [==============================] - 5s 103ms/step - loss: 0.0392 - accuracy: 0.9860 - val_loss: 1.0744 - val_accuracy: 0.8106\n",
            "Epoch 56/60\n",
            "47/47 [==============================] - 5s 103ms/step - loss: 0.0348 - accuracy: 0.9890 - val_loss: 1.1847 - val_accuracy: 0.8099\n",
            "Epoch 57/60\n",
            "47/47 [==============================] - 5s 103ms/step - loss: 0.0515 - accuracy: 0.9843 - val_loss: 1.1111 - val_accuracy: 0.8099\n",
            "Epoch 58/60\n",
            "47/47 [==============================] - 5s 103ms/step - loss: 0.0473 - accuracy: 0.9822 - val_loss: 1.1081 - val_accuracy: 0.8051\n",
            "Epoch 59/60\n",
            "47/47 [==============================] - 5s 103ms/step - loss: 0.0379 - accuracy: 0.9877 - val_loss: 1.1566 - val_accuracy: 0.8153\n",
            "Epoch 60/60\n",
            "47/47 [==============================] - 5s 103ms/step - loss: 0.0418 - accuracy: 0.9861 - val_loss: 1.1554 - val_accuracy: 0.8173\n"
          ]
        }
      ]
    },
    {
      "cell_type": "code",
      "source": [
        "plt.plot(history2.history['accuracy'],label='Training Data')\n",
        "plt.plot(history2.history['val_accuracy'],label='Validation Data')\n",
        "plt.xlabel('Epochs')\n",
        "plt.ylabel('Accuracy')\n",
        "plt.legend(loc='upper left')\n",
        "plt.show()"
      ],
      "metadata": {
        "colab": {
          "base_uri": "https://localhost:8080/",
          "height": 279
        },
        "id": "dSpgQIBvNWHK",
        "outputId": "6d54a6ea-1cce-494f-f7d6-bc7d1b7faaac"
      },
      "execution_count": 28,
      "outputs": [
        {
          "output_type": "display_data",
          "data": {
            "text/plain": [
              "<Figure size 432x288 with 1 Axes>"
            ],
            "image/png": "[encoded data removed]"
          },
          "metadata": {
            "needs_background": "light"
          }
        }
      ]
    },
    {
      "cell_type": "code",
      "source": [
        "model2.evaluate(X_test,y_test)"
      ],
      "metadata": {
        "colab": {
          "base_uri": "https://localhost:8080/"
        },
        "id": "APgxYslg70pZ",
        "outputId": "1e2a5252-0493-488e-ea0c-b2ec628f6b2c"
      },
      "execution_count": 29,
      "outputs": [
        {
          "output_type": "stream",
          "name": "stdout",
          "text": [
            "58/58 [==============================] - 1s 11ms/step - loss: 1.9520 - accuracy: 0.1840\n"
          ]
        },
        {
          "output_type": "execute_result",
          "data": {
            "text/plain": [
              "[1.951978325843811, 0.18398268520832062]"
            ]
          },
          "metadata": {},
          "execution_count": 29
        }
      ]
    },
    {
      "cell_type": "markdown",
      "source": [
        "## Now using the VGG16 model"
      ],
      "metadata": {
        "id": "HTAReW7mxUJo"
      }
    },
    {
      "cell_type": "code",
      "source": [
        "from tensorflow.keras.utils import to_categorical\n",
        "\n",
        "vgg_train_X=tf.image.resize(X_train, (150,150))\n",
        "vgg_valid_X=tf.image.resize(X_valid, (150,150))\n",
        "vgg_test_X=tf.image.resize(X_test, (150,150))\n",
        "\n",
        "vgg_train_Y=to_categorical(y_train, num_classes=7)\n",
        "vgg_valid_Y=to_categorical(y_valid, num_classes=7)\n",
        "vgg_test_Y=to_categorical(y_test, num_classes=7)"
      ],
      "metadata": {
        "id": "Lf9yMZ9CxYnN"
      },
      "execution_count": 30,
      "outputs": []
    },
    {
      "cell_type": "code",
      "source": [
        "from tensorflow.keras.applications.vgg16 import VGG16\n",
        "from tensorflow.keras.applications.vgg16 import preprocess_input\n",
        "\n",
        "base_model=VGG16(weights=\"imagenet\", include_top=False, input_shape=vgg_train_X[0].shape)\n",
        "base_model.trainable=False\n",
        "\n",
        "vgg_train_X=preprocess_input(vgg_train_X)\n",
        "vgg_valid_X=preprocess_input(vgg_valid_X)\n",
        "vgg_test_X=preprocess_input(vgg_test_X)"
      ],
      "metadata": {
        "colab": {
          "base_uri": "https://localhost:8080/"
        },
        "id": "87Et3mei1oaJ",
        "outputId": "46ef364f-35f9-4611-b656-930805aea6c4"
      },
      "execution_count": 31,
      "outputs": [
        {
          "output_type": "stream",
          "name": "stdout",
          "text": [
            "Downloading data from https://storage.googleapis.com/tensorflow/keras-applications/vgg16/vgg16_weights_tf_dim_ordering_tf_kernels_notop.h5\n",
            "58892288/58889256 [==============================] - 0s 0us/step\n",
            "58900480/58889256 [==============================] - 0s 0us/step\n"
          ]
        }
      ]
    },
    {
      "cell_type": "code",
      "source": [
        "base_model.summary()"
      ],
      "metadata": {
        "colab": {
          "base_uri": "https://localhost:8080/"
        },
        "id": "iXBXZtRX2WrL",
        "outputId": "77b8c7b9-2bb0-4deb-e9a6-c215dec02328"
      },
      "execution_count": 32,
      "outputs": [
        {
          "output_type": "stream",
          "name": "stdout",
          "text": [
            "Model: \"vgg16\"\n",
            "_________________________________________________________________\n",
            " Layer (type)                Output Shape              Param #   \n",
            "=================================================================\n",
            " input_1 (InputLayer)        [(None, 150, 150, 3)]     0         \n",
            "                                                                 \n",
            " block1_conv1 (Conv2D)       (None, 150, 150, 64)      1792      \n",
            "                                                                 \n",
            " block1_conv2 (Conv2D)       (None, 150, 150, 64)      36928     \n",
            "                                                                 \n",
            " block1_pool (MaxPooling2D)  (None, 75, 75, 64)        0         \n",
            "                                                                 \n",
            " block2_conv1 (Conv2D)       (None, 75, 75, 128)       73856     \n",
            "                                                                 \n",
            " block2_conv2 (Conv2D)       (None, 75, 75, 128)       147584    \n",
            "                                                                 \n",
            " block2_pool (MaxPooling2D)  (None, 37, 37, 128)       0         \n",
            "                                                                 \n",
            " block3_conv1 (Conv2D)       (None, 37, 37, 256)       295168    \n",
            "                                                                 \n",
            " block3_conv2 (Conv2D)       (None, 37, 37, 256)       590080    \n",
            "                                                                 \n",
            " block3_conv3 (Conv2D)       (None, 37, 37, 256)       590080    \n",
            "                                                                 \n",
            " block3_pool (MaxPooling2D)  (None, 18, 18, 256)       0         \n",
            "                                                                 \n",
            " block4_conv1 (Conv2D)       (None, 18, 18, 512)       1180160   \n",
            "                                                                 \n",
            " block4_conv2 (Conv2D)       (None, 18, 18, 512)       2359808   \n",
            "                                                                 \n",
            " block4_conv3 (Conv2D)       (None, 18, 18, 512)       2359808   \n",
            "                                                                 \n",
            " block4_pool (MaxPooling2D)  (None, 9, 9, 512)         0         \n",
            "                                                                 \n",
            " block5_conv1 (Conv2D)       (None, 9, 9, 512)         2359808   \n",
            "                                                                 \n",
            " block5_conv2 (Conv2D)       (None, 9, 9, 512)         2359808   \n",
            "                                                                 \n",
            " block5_conv3 (Conv2D)       (None, 9, 9, 512)         2359808   \n",
            "                                                                 \n",
            " block5_pool (MaxPooling2D)  (None, 4, 4, 512)         0         \n",
            "                                                                 \n",
            "=================================================================\n",
            "Total params: 14,714,688\n",
            "Trainable params: 0\n",
            "Non-trainable params: 14,714,688\n",
            "_________________________________________________________________\n"
          ]
        }
      ]
    },
    {
      "cell_type": "code",
      "source": [
        "from tensorflow.keras import layers, models\n",
        "flatten_layer = layers.Flatten()\n",
        "dense_layer_1 = layers.Dense(50, activation='relu')\n",
        "dense_layer_2 = layers.Dense(20, activation='relu')\n",
        "prediction_layer = layers.Dense(7, activation='softmax')\n",
        "\n",
        "\n",
        "model_VGG = models.Sequential([\n",
        "    base_model,\n",
        "    flatten_layer,\n",
        "    dense_layer_1,\n",
        "    dense_layer_2,\n",
        "    prediction_layer\n",
        "])"
      ],
      "metadata": {
        "id": "DFc4kSbI3CM8"
      },
      "execution_count": 33,
      "outputs": []
    },
    {
      "cell_type": "code",
      "source": [
        "model_VGG.compile(\n",
        "    optimizer='adam',\n",
        "    loss='categorical_crossentropy',\n",
        "    metrics=['accuracy'],\n",
        ")"
      ],
      "metadata": {
        "id": "ncgNnvnV8FaP"
      },
      "execution_count": 34,
      "outputs": []
    },
    {
      "cell_type": "code",
      "source": [
        "from tensorflow.keras.callbacks import EarlyStopping\n",
        "es = EarlyStopping(monitor='val_accuracy', mode='max', patience=5,  restore_best_weights=True)"
      ],
      "metadata": {
        "id": "H-ftLJao8MiG"
      },
      "execution_count": 35,
      "outputs": []
    },
    {
      "cell_type": "code",
      "source": [
        "VGG_train_ds=tf.data.Dataset.from_tensor_slices((vgg_train_X,vgg_train_Y))\n",
        "VGG_valid_ds=tf.data.Dataset.from_tensor_slices((vgg_valid_X,vgg_valid_Y))\n",
        "VGG_test_ds=tf.data.Dataset.from_tensor_slices((vgg_test_X,vgg_test_Y))"
      ],
      "metadata": {
        "id": "n3igDoNt9YJ_"
      },
      "execution_count": 36,
      "outputs": []
    },
    {
      "cell_type": "code",
      "source": [
        "history_VGG=model_VGG.fit(VGG_train_ds.batch(128),\n",
        "         epochs=60,\n",
        "         validation_data=VGG_valid_ds.batch(128)\n",
        "         )"
      ],
      "metadata": {
        "colab": {
          "base_uri": "https://localhost:8080/"
        },
        "id": "cK5e95b18QE0",
        "outputId": "8d034070-e51d-4d92-dc2c-24ac2f9b0e9a"
      },
      "execution_count": 41,
      "outputs": [
        {
          "output_type": "stream",
          "name": "stdout",
          "text": [
            "Epoch 1/60\n",
            "47/47 [==============================] - 32s 684ms/step - loss: 1.5483 - accuracy: 0.4536 - val_loss: 1.4963 - val_accuracy: 0.5007\n",
            "Epoch 2/60\n",
            "47/47 [==============================] - 32s 681ms/step - loss: 1.5117 - accuracy: 0.4723 - val_loss: 1.4837 - val_accuracy: 0.4851\n",
            "Epoch 3/60\n",
            "47/47 [==============================] - 32s 683ms/step - loss: 1.4770 - accuracy: 0.4784 - val_loss: 1.4599 - val_accuracy: 0.4858\n",
            "Epoch 4/60\n",
            "47/47 [==============================] - 32s 682ms/step - loss: 1.4411 - accuracy: 0.4816 - val_loss: 1.4563 - val_accuracy: 0.5101\n",
            "Epoch 5/60\n",
            "47/47 [==============================] - 32s 681ms/step - loss: 1.4184 - accuracy: 0.4852 - val_loss: 1.4074 - val_accuracy: 0.5189\n",
            "Epoch 6/60\n",
            "47/47 [==============================] - 32s 683ms/step - loss: 1.3758 - accuracy: 0.5033 - val_loss: 1.3523 - val_accuracy: 0.5237\n",
            "Epoch 7/60\n",
            "47/47 [==============================] - 32s 682ms/step - loss: 1.3421 - accuracy: 0.5057 - val_loss: 1.3505 - val_accuracy: 0.5291\n",
            "Epoch 8/60\n",
            "47/47 [==============================] - 32s 683ms/step - loss: 1.3214 - accuracy: 0.5060 - val_loss: 1.3155 - val_accuracy: 0.5311\n",
            "Epoch 9/60\n",
            "47/47 [==============================] - 32s 682ms/step - loss: 1.2928 - accuracy: 0.5173 - val_loss: 1.2873 - val_accuracy: 0.5332\n",
            "Epoch 10/60\n",
            "47/47 [==============================] - 32s 681ms/step - loss: 1.2722 - accuracy: 0.5236 - val_loss: 1.2621 - val_accuracy: 0.5338\n",
            "Epoch 11/60\n",
            "47/47 [==============================] - 32s 681ms/step - loss: 1.2562 - accuracy: 0.5288 - val_loss: 1.2476 - val_accuracy: 0.5325\n",
            "Epoch 12/60\n",
            "47/47 [==============================] - 32s 681ms/step - loss: 1.2428 - accuracy: 0.5304 - val_loss: 1.2332 - val_accuracy: 0.5345\n",
            "Epoch 13/60\n",
            "47/47 [==============================] - 32s 681ms/step - loss: 1.2298 - accuracy: 0.5353 - val_loss: 1.2260 - val_accuracy: 0.5359\n",
            "Epoch 14/60\n",
            "47/47 [==============================] - 32s 682ms/step - loss: 1.2206 - accuracy: 0.5363 - val_loss: 1.2197 - val_accuracy: 0.5379\n",
            "Epoch 15/60\n",
            "47/47 [==============================] - 32s 681ms/step - loss: 1.2128 - accuracy: 0.5392 - val_loss: 1.2263 - val_accuracy: 0.5359\n",
            "Epoch 16/60\n",
            "47/47 [==============================] - 32s 681ms/step - loss: 1.2063 - accuracy: 0.5410 - val_loss: 1.2177 - val_accuracy: 0.5426\n",
            "Epoch 17/60\n",
            "47/47 [==============================] - 32s 681ms/step - loss: 1.2003 - accuracy: 0.5432 - val_loss: 1.2117 - val_accuracy: 0.5426\n",
            "Epoch 18/60\n",
            "47/47 [==============================] - 32s 682ms/step - loss: 1.1936 - accuracy: 0.5459 - val_loss: 1.2114 - val_accuracy: 0.5453\n",
            "Epoch 19/60\n",
            "47/47 [==============================] - 32s 682ms/step - loss: 1.1887 - accuracy: 0.5476 - val_loss: 1.2009 - val_accuracy: 0.5440\n",
            "Epoch 20/60\n",
            "47/47 [==============================] - 32s 681ms/step - loss: 1.1816 - accuracy: 0.5491 - val_loss: 1.2000 - val_accuracy: 0.5480\n",
            "Epoch 21/60\n",
            "47/47 [==============================] - 32s 682ms/step - loss: 1.1764 - accuracy: 0.5535 - val_loss: 1.1929 - val_accuracy: 0.5514\n",
            "Epoch 22/60\n",
            "47/47 [==============================] - 32s 681ms/step - loss: 1.1714 - accuracy: 0.5564 - val_loss: 1.1841 - val_accuracy: 0.5514\n",
            "Epoch 23/60\n",
            "47/47 [==============================] - 32s 681ms/step - loss: 1.1680 - accuracy: 0.5573 - val_loss: 1.1843 - val_accuracy: 0.5507\n",
            "Epoch 24/60\n",
            "47/47 [==============================] - 32s 682ms/step - loss: 1.1676 - accuracy: 0.5574 - val_loss: 1.1905 - val_accuracy: 0.5453\n",
            "Epoch 25/60\n",
            "47/47 [==============================] - 32s 681ms/step - loss: 1.1642 - accuracy: 0.5605 - val_loss: 1.1891 - val_accuracy: 0.5487\n",
            "Epoch 26/60\n",
            "47/47 [==============================] - 32s 682ms/step - loss: 1.1656 - accuracy: 0.5579 - val_loss: 1.1947 - val_accuracy: 0.5386\n",
            "Epoch 27/60\n",
            "47/47 [==============================] - 32s 681ms/step - loss: 1.1603 - accuracy: 0.5588 - val_loss: 1.1932 - val_accuracy: 0.5501\n",
            "Epoch 28/60\n",
            "47/47 [==============================] - 32s 682ms/step - loss: 1.1533 - accuracy: 0.5627 - val_loss: 1.1813 - val_accuracy: 0.5474\n",
            "Epoch 29/60\n",
            "47/47 [==============================] - 32s 681ms/step - loss: 1.1546 - accuracy: 0.5605 - val_loss: 1.1958 - val_accuracy: 0.5447\n",
            "Epoch 30/60\n",
            "47/47 [==============================] - 32s 681ms/step - loss: 1.1492 - accuracy: 0.5578 - val_loss: 1.1731 - val_accuracy: 0.5487\n",
            "Epoch 31/60\n",
            "47/47 [==============================] - 32s 682ms/step - loss: 1.1427 - accuracy: 0.5620 - val_loss: 1.1797 - val_accuracy: 0.5460\n",
            "Epoch 32/60\n",
            "47/47 [==============================] - 32s 682ms/step - loss: 1.1413 - accuracy: 0.5642 - val_loss: 1.1664 - val_accuracy: 0.5501\n",
            "Epoch 33/60\n",
            "47/47 [==============================] - 32s 681ms/step - loss: 1.1375 - accuracy: 0.5666 - val_loss: 1.1667 - val_accuracy: 0.5480\n",
            "Epoch 34/60\n",
            "47/47 [==============================] - 32s 681ms/step - loss: 1.1352 - accuracy: 0.5647 - val_loss: 1.1492 - val_accuracy: 0.5595\n",
            "Epoch 35/60\n",
            "47/47 [==============================] - 32s 681ms/step - loss: 1.1299 - accuracy: 0.5672 - val_loss: 1.1744 - val_accuracy: 0.5453\n",
            "Epoch 36/60\n",
            "47/47 [==============================] - 32s 682ms/step - loss: 1.1326 - accuracy: 0.5657 - val_loss: 1.1463 - val_accuracy: 0.5589\n",
            "Epoch 37/60\n",
            "47/47 [==============================] - 32s 681ms/step - loss: 1.1241 - accuracy: 0.5698 - val_loss: 1.1452 - val_accuracy: 0.5541\n",
            "Epoch 38/60\n",
            "47/47 [==============================] - 32s 681ms/step - loss: 1.1232 - accuracy: 0.5681 - val_loss: 1.1334 - val_accuracy: 0.5629\n",
            "Epoch 39/60\n",
            "47/47 [==============================] - 32s 682ms/step - loss: 1.1201 - accuracy: 0.5701 - val_loss: 1.1490 - val_accuracy: 0.5562\n",
            "Epoch 40/60\n",
            "47/47 [==============================] - 32s 682ms/step - loss: 1.1190 - accuracy: 0.5684 - val_loss: 1.1282 - val_accuracy: 0.5650\n",
            "Epoch 41/60\n",
            "47/47 [==============================] - 32s 682ms/step - loss: 1.1151 - accuracy: 0.5720 - val_loss: 1.1287 - val_accuracy: 0.5663\n",
            "Epoch 42/60\n",
            "47/47 [==============================] - 32s 681ms/step - loss: 1.1133 - accuracy: 0.5745 - val_loss: 1.1292 - val_accuracy: 0.5629\n",
            "Epoch 43/60\n",
            "47/47 [==============================] - 32s 681ms/step - loss: 1.1134 - accuracy: 0.5740 - val_loss: 1.1311 - val_accuracy: 0.5629\n",
            "Epoch 44/60\n",
            "47/47 [==============================] - 32s 681ms/step - loss: 1.1112 - accuracy: 0.5711 - val_loss: 1.1324 - val_accuracy: 0.5629\n",
            "Epoch 45/60\n",
            "47/47 [==============================] - 32s 681ms/step - loss: 1.1104 - accuracy: 0.5740 - val_loss: 1.1280 - val_accuracy: 0.5643\n",
            "Epoch 46/60\n",
            "47/47 [==============================] - 32s 680ms/step - loss: 1.1108 - accuracy: 0.5723 - val_loss: 1.1302 - val_accuracy: 0.5595\n",
            "Epoch 47/60\n",
            "47/47 [==============================] - 32s 681ms/step - loss: 1.1067 - accuracy: 0.5727 - val_loss: 1.1316 - val_accuracy: 0.5629\n",
            "Epoch 48/60\n",
            "47/47 [==============================] - 32s 681ms/step - loss: 1.1067 - accuracy: 0.5711 - val_loss: 1.1233 - val_accuracy: 0.5636\n",
            "Epoch 49/60\n",
            "47/47 [==============================] - 32s 682ms/step - loss: 1.1017 - accuracy: 0.5752 - val_loss: 1.1216 - val_accuracy: 0.5629\n",
            "Epoch 50/60\n",
            "47/47 [==============================] - 33s 698ms/step - loss: 1.1047 - accuracy: 0.5730 - val_loss: 1.1369 - val_accuracy: 0.5595\n",
            "Epoch 51/60\n",
            "47/47 [==============================] - 32s 681ms/step - loss: 1.1050 - accuracy: 0.5723 - val_loss: 1.1260 - val_accuracy: 0.5629\n",
            "Epoch 52/60\n",
            "47/47 [==============================] - 32s 683ms/step - loss: 1.0986 - accuracy: 0.5760 - val_loss: 1.1222 - val_accuracy: 0.5629\n",
            "Epoch 53/60\n",
            "47/47 [==============================] - 32s 682ms/step - loss: 1.0966 - accuracy: 0.5771 - val_loss: 1.1189 - val_accuracy: 0.5650\n",
            "Epoch 54/60\n",
            "47/47 [==============================] - 32s 681ms/step - loss: 1.0943 - accuracy: 0.5757 - val_loss: 1.1153 - val_accuracy: 0.5683\n",
            "Epoch 55/60\n",
            "47/47 [==============================] - 32s 682ms/step - loss: 1.0942 - accuracy: 0.5766 - val_loss: 1.1077 - val_accuracy: 0.5704\n",
            "Epoch 56/60\n",
            "47/47 [==============================] - 32s 681ms/step - loss: 1.0921 - accuracy: 0.5772 - val_loss: 1.1123 - val_accuracy: 0.5697\n",
            "Epoch 57/60\n",
            "47/47 [==============================] - 32s 681ms/step - loss: 1.0926 - accuracy: 0.5754 - val_loss: 1.1126 - val_accuracy: 0.5677\n",
            "Epoch 58/60\n",
            "47/47 [==============================] - 32s 681ms/step - loss: 1.0908 - accuracy: 0.5757 - val_loss: 1.1087 - val_accuracy: 0.5683\n",
            "Epoch 59/60\n",
            "47/47 [==============================] - 32s 681ms/step - loss: 1.0908 - accuracy: 0.5762 - val_loss: 1.1208 - val_accuracy: 0.5609\n",
            "Epoch 60/60\n",
            "47/47 [==============================] - 32s 680ms/step - loss: 1.0921 - accuracy: 0.5771 - val_loss: 1.1213 - val_accuracy: 0.5609\n"
          ]
        }
      ]
    },
    {
      "cell_type": "code",
      "source": [
        "plt.plot(history_VGG.history['accuracy'],label='Training Data')\n",
        "plt.plot(history_VGG.history['val_accuracy'],label='Validation Data')\n",
        "plt.xlabel('Epochs')\n",
        "plt.ylabel('Accuracy')\n",
        "plt.legend(loc='upper left')\n",
        "plt.show()"
      ],
      "metadata": {
        "colab": {
          "base_uri": "https://localhost:8080/",
          "height": 279
        },
        "id": "iCFxsVLd-C0k",
        "outputId": "6fdf0415-15b1-4dc7-c244-fee6e99e045c"
      },
      "execution_count": 42,
      "outputs": [
        {
          "output_type": "display_data",
          "data": {
            "text/plain": [
              "<Figure size 432x288 with 1 Axes>"
            ],
            "image/png": "[encoded data removed]"
          },
          "metadata": {
            "needs_background": "light"
          }
        }
      ]
    },
    {
      "cell_type": "code",
      "source": [
        "model_VGG.evaluate(vgg_test_X,vgg_test_Y)"
      ],
      "metadata": {
        "colab": {
          "base_uri": "https://localhost:8080/"
        },
        "id": "i6N8A5hi-H9r",
        "outputId": "8415780a-8a27-46a7-b5e8-75285406c1a4"
      },
      "execution_count": 43,
      "outputs": [
        {
          "output_type": "stream",
          "name": "stdout",
          "text": [
            "58/58 [==============================] - 9s 156ms/step - loss: 1.1296 - accuracy: 0.5536\n"
          ]
        },
        {
          "output_type": "execute_result",
          "data": {
            "text/plain": [
              "[1.12955641746521, 0.5535714030265808]"
            ]
          },
          "metadata": {},
          "execution_count": 43
        }
      ]
    }
  ]
}