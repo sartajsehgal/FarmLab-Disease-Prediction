{
  "nbformat": 4,
  "nbformat_minor": 0,
  "metadata": {
    "colab": {
      "name": "Rice_Crop_Disease_Prediction.ipynb",
      "provenance": [],
      "collapsed_sections": [],
      "authorship_tag": "ABX9TyP4VVuKxiZCqvg5aEZouskT",
      "include_colab_link": true
    },
    "kernelspec": {
      "name": "python3",
      "display_name": "Python 3"
    },
    "language_info": {
      "name": "python"
    },
    "accelerator": "GPU"
  },
  "cells": [
    {
      "cell_type": "markdown",
      "metadata": {
        "id": "view-in-github",
        "colab_type": "text"
      },
      "source": [
        "<a href=\"https://colab.research.google.com/github/sartajsehgal/FarmLab-Disease-Prediction/blob/main/Rice_Crop_Disease_Prediction.ipynb\" target=\"_parent\"><img src=\"https://colab.research.google.com/assets/colab-badge.svg\" alt=\"Open In Colab\"/></a>"
      ]
    },
    {
      "cell_type": "code",
      "source": [
        "%tensorflow_version 2.x\n",
        "import tensorflow as tf\n",
        "device_name = tf.test.gpu_device_name()\n",
        "if device_name != '/device:GPU:0':\n",
        "  raise SystemError('GPU device not found')\n",
        "print('Found GPU at: {}'.format(device_name))"
      ],
      "metadata": {
        "colab": {
          "base_uri": "https://localhost:8080/"
        },
        "id": "Pu5QdtAS7puw",
        "outputId": "90393382-cbd1-4488-9bc5-cd97f0e48422"
      },
      "execution_count": 1,
      "outputs": [
        {
          "output_type": "stream",
          "name": "stdout",
          "text": [
            "Found GPU at: /device:GPU:0\n"
          ]
        }
      ]
    },
    {
      "cell_type": "code",
      "source": [
        "import numpy as np\n",
        "import pandas as pd\n",
        "import tensorflow as tf\n",
        "from tensorflow import keras\n",
        "import os\n",
        "import cv2\n",
        "from PIL import Image\n",
        "import random"
      ],
      "metadata": {
        "id": "oph1xEl5nNeb"
      },
      "execution_count": 2,
      "outputs": []
    },
    {
      "cell_type": "code",
      "source": [
        "path='/content/drive/MyDrive/Rice Dataset/'\n",
        "categories=os.listdir(path)\n",
        "training=[]\n",
        "categories\n",
        "for category in categories:\n",
        "    class_num=categories.index(category)\n",
        "    for img in os.listdir(path+category):\n",
        "        if img.endswith('.jpg') or img.endswith('.JPG'):\n",
        "            img_array=cv2.imread(path+category+'/'+img)\n",
        "            new_array=cv2.resize(img_array,(64,64))\n",
        "            training.append([new_array, class_num])\n",
        "training[0]"
      ],
      "metadata": {
        "colab": {
          "base_uri": "https://localhost:8080/"
        },
        "id": "lXzuFN61naX0",
        "outputId": "623ae1c6-b62f-47b6-dd76-67566c68359c"
      },
      "execution_count": 3,
      "outputs": [
        {
          "output_type": "execute_result",
          "data": {
            "text/plain": [
              "[array([[[228, 220, 220],\n",
              "         [234, 227, 225],\n",
              "         [231, 223, 223],\n",
              "         ...,\n",
              "         [212, 204, 203],\n",
              "         [218, 204, 205],\n",
              "         [209, 201, 201]],\n",
              " \n",
              "        [[236, 228, 226],\n",
              "         [237, 223, 224],\n",
              "         [238, 225, 219],\n",
              "         ...,\n",
              "         [209, 201, 201],\n",
              "         [213, 205, 205],\n",
              "         [213, 206, 203]],\n",
              " \n",
              "        [[244, 230, 231],\n",
              "         [239, 225, 226],\n",
              "         [239, 225, 226],\n",
              "         ...,\n",
              "         [212, 204, 204],\n",
              "         [214, 200, 201],\n",
              "         [210, 196, 197]],\n",
              " \n",
              "        ...,\n",
              " \n",
              "        [[249, 242, 241],\n",
              "         [243, 235, 234],\n",
              "         [243, 235, 235],\n",
              "         ...,\n",
              "         [226, 212, 213],\n",
              "         [223, 209, 210],\n",
              "         [224, 210, 211]],\n",
              " \n",
              "        [[245, 237, 237],\n",
              "         [247, 239, 239],\n",
              "         [246, 238, 237],\n",
              "         ...,\n",
              "         [226, 212, 213],\n",
              "         [229, 216, 216],\n",
              "         [228, 214, 215]],\n",
              " \n",
              "        [[247, 239, 239],\n",
              "         [244, 237, 235],\n",
              "         [252, 245, 244],\n",
              "         ...,\n",
              "         [230, 216, 217],\n",
              "         [223, 209, 210],\n",
              "         [223, 209, 210]]], dtype=uint8), 0]"
            ]
          },
          "metadata": {},
          "execution_count": 3
        }
      ]
    },
    {
      "cell_type": "code",
      "source": [
        "random.shuffle(training)"
      ],
      "metadata": {
        "id": "eUl8an0Sn52M"
      },
      "execution_count": 4,
      "outputs": []
    },
    {
      "cell_type": "code",
      "source": [
        "X=[]\n",
        "y=[]\n",
        "for features, label in training:\n",
        "    X.append(features)\n",
        "    y.append(label)\n",
        "X=np.array(X).reshape(-1,64,64,3)"
      ],
      "metadata": {
        "id": "hTwG1fLcq-eh"
      },
      "execution_count": 5,
      "outputs": []
    },
    {
      "cell_type": "code",
      "source": [
        "X=X.astype('float32')\n",
        "X/=255\n",
        "from keras.utils import np_utils\n",
        "Y=np_utils.to_categorical(y,7)\n",
        "print(Y[100])\n",
        "print(Y.shape)"
      ],
      "metadata": {
        "colab": {
          "base_uri": "https://localhost:8080/"
        },
        "id": "MlPOmHlYrE-3",
        "outputId": "ca8c520a-64fc-4ea9-a49b-4f7c55f1ca44"
      },
      "execution_count": 6,
      "outputs": [
        {
          "output_type": "stream",
          "name": "stdout",
          "text": [
            "[0. 0. 1. 0. 0. 0. 0.]\n",
            "(9237, 7)\n"
          ]
        }
      ]
    },
    {
      "cell_type": "code",
      "source": [
        "from sklearn.model_selection import train_test_split\n",
        "X_train1, X_test, y_train1, y_test = train_test_split(X, y, test_size = 0.2, random_state = 42)"
      ],
      "metadata": {
        "id": "ixn-uKl5rV4T"
      },
      "execution_count": 7,
      "outputs": []
    },
    {
      "cell_type": "code",
      "source": [
        "from sklearn.model_selection import train_test_split\n",
        "X_train, X_valid, y_train, y_valid = train_test_split(X_train1, y_train1, test_size = 0.2, random_state = 42)"
      ],
      "metadata": {
        "id": "-BpfRjDGrkph"
      },
      "execution_count": 8,
      "outputs": []
    },
    {
      "cell_type": "code",
      "source": [
        "from keras.models import Sequential\n",
        "from keras.layers.core import Dense, Activation, Dropout, Flatten\n",
        "from keras.layers.convolutional import Convolution2D, MaxPooling2D\n",
        "from tensorflow.keras.optimizers import Adam"
      ],
      "metadata": {
        "id": "dnyRGnV5r0O3"
      },
      "execution_count": 9,
      "outputs": []
    },
    {
      "cell_type": "code",
      "source": [
        "model=tf.keras.Sequential([\n",
        "    tf.keras.layers.Conv2D(128,(3,3), padding='same', activation=tf.nn.relu,input_shape=(64,64,3),kernel_regularizer=keras.regularizers.l2(0.05)),\n",
        "    tf.keras.layers.MaxPooling2D((2, 2), strides=2),\n",
        "    tf.keras.layers.Dropout(0.5),\n",
        "    tf.keras.layers.Conv2D(128, (3,3), padding='same', activation=tf.nn.relu,kernel_regularizer=keras.regularizers.l2(0.05)),\n",
        "    tf.keras.layers.MaxPooling2D((2, 2), strides=2),\n",
        "    tf.keras.layers.Dropout(0.5),\n",
        "    tf.keras.layers.Flatten(),\n",
        "    tf.keras.layers.Dense(128, activation=tf.nn.relu),\n",
        "    tf.keras.layers.Dense(7,  activation=tf.nn.softmax)\n",
        "])"
      ],
      "metadata": {
        "id": "dWTX4cOet2Ut"
      },
      "execution_count": 18,
      "outputs": []
    },
    {
      "cell_type": "code",
      "source": [
        "model.summary()"
      ],
      "metadata": {
        "colab": {
          "base_uri": "https://localhost:8080/"
        },
        "id": "-k2vyOm0uXMK",
        "outputId": "dce7b6cf-b236-48c5-b0b6-13b0a990181d"
      },
      "execution_count": 19,
      "outputs": [
        {
          "output_type": "stream",
          "name": "stdout",
          "text": [
            "Model: \"sequential_1\"\n",
            "_________________________________________________________________\n",
            " Layer (type)                Output Shape              Param #   \n",
            "=================================================================\n",
            " conv2d_2 (Conv2D)           (None, 64, 64, 128)       3584      \n",
            "                                                                 \n",
            " max_pooling2d_2 (MaxPooling  (None, 32, 32, 128)      0         \n",
            " 2D)                                                             \n",
            "                                                                 \n",
            " dropout_1 (Dropout)         (None, 32, 32, 128)       0         \n",
            "                                                                 \n",
            " conv2d_3 (Conv2D)           (None, 32, 32, 128)       147584    \n",
            "                                                                 \n",
            " max_pooling2d_3 (MaxPooling  (None, 16, 16, 128)      0         \n",
            " 2D)                                                             \n",
            "                                                                 \n",
            " dropout_2 (Dropout)         (None, 16, 16, 128)       0         \n",
            "                                                                 \n",
            " flatten_1 (Flatten)         (None, 32768)             0         \n",
            "                                                                 \n",
            " dense_2 (Dense)             (None, 128)               4194432   \n",
            "                                                                 \n",
            " dense_3 (Dense)             (None, 7)                 903       \n",
            "                                                                 \n",
            "=================================================================\n",
            "Total params: 4,346,503\n",
            "Trainable params: 4,346,503\n",
            "Non-trainable params: 0\n",
            "_________________________________________________________________\n"
          ]
        }
      ]
    },
    {
      "cell_type": "code",
      "source": [
        "model.compile(optimizer='Adam',loss='sparse_categorical_crossentropy',metrics=['accuracy'])"
      ],
      "metadata": {
        "id": "deeziffhuatY"
      },
      "execution_count": 20,
      "outputs": []
    },
    {
      "cell_type": "code",
      "source": [
        "train_ds=tf.data.Dataset.from_tensor_slices((X_train,y_train))\n",
        "valid_ds=tf.data.Dataset.from_tensor_slices((X_valid,y_valid))\n",
        "test_ds=tf.data.Dataset.from_tensor_slices((X_test,y_test))"
      ],
      "metadata": {
        "id": "nUuzqnQUu3sG"
      },
      "execution_count": 21,
      "outputs": []
    },
    {
      "cell_type": "code",
      "source": [
        "history=model.fit(train_ds.batch(128),\n",
        "         epochs=60,\n",
        "         validation_data=valid_ds.batch(128))"
      ],
      "metadata": {
        "colab": {
          "base_uri": "https://localhost:8080/"
        },
        "id": "LwVtpXnguoIE",
        "outputId": "1e0d989c-9810-4d98-ad14-94534ad6830c"
      },
      "execution_count": 22,
      "outputs": [
        {
          "output_type": "stream",
          "name": "stdout",
          "text": [
            "Epoch 1/60\n",
            "47/47 [==============================] - 3s 58ms/step - loss: 5.5841 - accuracy: 0.2678 - val_loss: 2.8981 - val_accuracy: 0.4296\n",
            "Epoch 2/60\n",
            "47/47 [==============================] - 3s 56ms/step - loss: 2.2814 - accuracy: 0.4859 - val_loss: 1.7236 - val_accuracy: 0.5501\n",
            "Epoch 3/60\n",
            "47/47 [==============================] - 3s 55ms/step - loss: 1.5390 - accuracy: 0.5772 - val_loss: 1.3246 - val_accuracy: 0.6137\n",
            "Epoch 4/60\n",
            "47/47 [==============================] - 3s 54ms/step - loss: 1.2928 - accuracy: 0.5945 - val_loss: 1.1789 - val_accuracy: 0.6367\n",
            "Epoch 5/60\n",
            "47/47 [==============================] - 3s 54ms/step - loss: 1.1812 - accuracy: 0.6087 - val_loss: 1.0827 - val_accuracy: 0.6401\n",
            "Epoch 6/60\n",
            "47/47 [==============================] - 3s 55ms/step - loss: 1.1132 - accuracy: 0.6205 - val_loss: 1.0496 - val_accuracy: 0.6556\n",
            "Epoch 7/60\n",
            "47/47 [==============================] - 3s 54ms/step - loss: 1.0660 - accuracy: 0.6349 - val_loss: 1.0112 - val_accuracy: 0.6455\n",
            "Epoch 8/60\n",
            "47/47 [==============================] - 3s 54ms/step - loss: 1.0367 - accuracy: 0.6395 - val_loss: 1.0004 - val_accuracy: 0.6428\n",
            "Epoch 9/60\n",
            "47/47 [==============================] - 3s 58ms/step - loss: 1.0073 - accuracy: 0.6540 - val_loss: 0.9686 - val_accuracy: 0.6529\n",
            "Epoch 10/60\n",
            "47/47 [==============================] - 3s 54ms/step - loss: 0.9844 - accuracy: 0.6566 - val_loss: 0.9337 - val_accuracy: 0.6806\n",
            "Epoch 11/60\n",
            "47/47 [==============================] - 3s 56ms/step - loss: 0.9675 - accuracy: 0.6605 - val_loss: 0.9119 - val_accuracy: 0.6928\n",
            "Epoch 12/60\n",
            "47/47 [==============================] - 3s 55ms/step - loss: 0.9449 - accuracy: 0.6686 - val_loss: 0.8976 - val_accuracy: 0.6928\n",
            "Epoch 13/60\n",
            "47/47 [==============================] - 3s 56ms/step - loss: 0.9139 - accuracy: 0.6850 - val_loss: 0.8708 - val_accuracy: 0.7111\n",
            "Epoch 14/60\n",
            "47/47 [==============================] - 3s 55ms/step - loss: 0.8985 - accuracy: 0.6985 - val_loss: 0.8697 - val_accuracy: 0.7077\n",
            "Epoch 15/60\n",
            "47/47 [==============================] - 3s 54ms/step - loss: 0.8733 - accuracy: 0.6994 - val_loss: 0.8267 - val_accuracy: 0.7348\n",
            "Epoch 16/60\n",
            "47/47 [==============================] - 3s 54ms/step - loss: 0.8502 - accuracy: 0.7139 - val_loss: 0.8399 - val_accuracy: 0.7212\n",
            "Epoch 17/60\n",
            "47/47 [==============================] - 3s 55ms/step - loss: 0.8405 - accuracy: 0.7138 - val_loss: 0.8013 - val_accuracy: 0.7470\n",
            "Epoch 18/60\n",
            "47/47 [==============================] - 3s 63ms/step - loss: 0.8296 - accuracy: 0.7127 - val_loss: 0.7791 - val_accuracy: 0.7524\n",
            "Epoch 19/60\n",
            "47/47 [==============================] - 3s 55ms/step - loss: 0.8208 - accuracy: 0.7176 - val_loss: 0.8004 - val_accuracy: 0.7375\n",
            "Epoch 20/60\n",
            "47/47 [==============================] - 3s 56ms/step - loss: 0.8237 - accuracy: 0.7119 - val_loss: 0.8330 - val_accuracy: 0.7145\n",
            "Epoch 21/60\n",
            "47/47 [==============================] - 3s 55ms/step - loss: 0.7971 - accuracy: 0.7239 - val_loss: 0.7566 - val_accuracy: 0.7558\n",
            "Epoch 22/60\n",
            "47/47 [==============================] - 3s 55ms/step - loss: 0.7780 - accuracy: 0.7341 - val_loss: 0.7576 - val_accuracy: 0.7652\n",
            "Epoch 23/60\n",
            "47/47 [==============================] - 3s 56ms/step - loss: 0.7697 - accuracy: 0.7335 - val_loss: 0.7371 - val_accuracy: 0.7747\n",
            "Epoch 24/60\n",
            "47/47 [==============================] - 3s 55ms/step - loss: 0.7591 - accuracy: 0.7383 - val_loss: 0.7634 - val_accuracy: 0.7497\n",
            "Epoch 25/60\n",
            "47/47 [==============================] - 3s 55ms/step - loss: 0.7513 - accuracy: 0.7442 - val_loss: 0.7181 - val_accuracy: 0.7713\n",
            "Epoch 26/60\n",
            "47/47 [==============================] - 3s 73ms/step - loss: 0.7368 - accuracy: 0.7445 - val_loss: 0.7060 - val_accuracy: 0.7828\n",
            "Epoch 27/60\n",
            "47/47 [==============================] - 3s 73ms/step - loss: 0.7351 - accuracy: 0.7471 - val_loss: 0.7057 - val_accuracy: 0.7679\n",
            "Epoch 28/60\n",
            "47/47 [==============================] - 3s 56ms/step - loss: 0.7305 - accuracy: 0.7467 - val_loss: 0.7025 - val_accuracy: 0.7740\n",
            "Epoch 29/60\n",
            "47/47 [==============================] - 3s 69ms/step - loss: 0.7298 - accuracy: 0.7501 - val_loss: 0.7048 - val_accuracy: 0.7618\n",
            "Epoch 30/60\n",
            "47/47 [==============================] - 3s 56ms/step - loss: 0.7106 - accuracy: 0.7513 - val_loss: 0.6972 - val_accuracy: 0.7760\n",
            "Epoch 31/60\n",
            "47/47 [==============================] - 3s 55ms/step - loss: 0.7134 - accuracy: 0.7567 - val_loss: 0.7109 - val_accuracy: 0.7537\n",
            "Epoch 32/60\n",
            "47/47 [==============================] - 3s 56ms/step - loss: 0.7047 - accuracy: 0.7591 - val_loss: 0.7075 - val_accuracy: 0.7598\n",
            "Epoch 33/60\n",
            "47/47 [==============================] - 3s 56ms/step - loss: 0.6993 - accuracy: 0.7586 - val_loss: 0.7393 - val_accuracy: 0.7544\n",
            "Epoch 34/60\n",
            "47/47 [==============================] - 3s 55ms/step - loss: 0.7061 - accuracy: 0.7513 - val_loss: 0.6934 - val_accuracy: 0.7760\n",
            "Epoch 35/60\n",
            "47/47 [==============================] - 3s 62ms/step - loss: 0.6996 - accuracy: 0.7547 - val_loss: 0.7011 - val_accuracy: 0.7679\n",
            "Epoch 36/60\n",
            "47/47 [==============================] - 3s 63ms/step - loss: 0.6936 - accuracy: 0.7584 - val_loss: 0.6697 - val_accuracy: 0.7842\n",
            "Epoch 37/60\n",
            "47/47 [==============================] - 3s 58ms/step - loss: 0.6885 - accuracy: 0.7626 - val_loss: 0.6844 - val_accuracy: 0.7740\n",
            "Epoch 38/60\n",
            "47/47 [==============================] - 3s 55ms/step - loss: 0.6934 - accuracy: 0.7559 - val_loss: 0.6637 - val_accuracy: 0.7930\n",
            "Epoch 39/60\n",
            "47/47 [==============================] - 3s 54ms/step - loss: 0.7035 - accuracy: 0.7532 - val_loss: 0.6822 - val_accuracy: 0.7740\n",
            "Epoch 40/60\n",
            "47/47 [==============================] - 3s 55ms/step - loss: 0.6992 - accuracy: 0.7557 - val_loss: 0.6649 - val_accuracy: 0.7923\n",
            "Epoch 41/60\n",
            "47/47 [==============================] - 3s 54ms/step - loss: 0.6744 - accuracy: 0.7604 - val_loss: 0.6492 - val_accuracy: 0.7943\n",
            "Epoch 42/60\n",
            "47/47 [==============================] - 3s 57ms/step - loss: 0.6674 - accuracy: 0.7662 - val_loss: 0.6438 - val_accuracy: 0.8038\n",
            "Epoch 43/60\n",
            "47/47 [==============================] - 3s 61ms/step - loss: 0.6604 - accuracy: 0.7704 - val_loss: 0.6479 - val_accuracy: 0.7950\n",
            "Epoch 44/60\n",
            "47/47 [==============================] - 3s 60ms/step - loss: 0.6815 - accuracy: 0.7571 - val_loss: 0.6511 - val_accuracy: 0.7848\n",
            "Epoch 45/60\n",
            "47/47 [==============================] - 3s 66ms/step - loss: 0.6666 - accuracy: 0.7652 - val_loss: 0.6497 - val_accuracy: 0.7855\n",
            "Epoch 46/60\n",
            "47/47 [==============================] - 3s 56ms/step - loss: 0.6662 - accuracy: 0.7720 - val_loss: 0.6349 - val_accuracy: 0.7984\n",
            "Epoch 47/60\n",
            "47/47 [==============================] - 3s 55ms/step - loss: 0.6416 - accuracy: 0.7823 - val_loss: 0.6296 - val_accuracy: 0.8031\n",
            "Epoch 48/60\n",
            "47/47 [==============================] - 3s 56ms/step - loss: 0.6465 - accuracy: 0.7699 - val_loss: 0.6189 - val_accuracy: 0.8051\n",
            "Epoch 49/60\n",
            "47/47 [==============================] - 3s 54ms/step - loss: 0.6387 - accuracy: 0.7765 - val_loss: 0.6189 - val_accuracy: 0.8072\n",
            "Epoch 50/60\n",
            "47/47 [==============================] - 3s 55ms/step - loss: 0.6316 - accuracy: 0.7789 - val_loss: 0.6201 - val_accuracy: 0.8051\n",
            "Epoch 51/60\n",
            "47/47 [==============================] - 3s 54ms/step - loss: 0.6305 - accuracy: 0.7775 - val_loss: 0.6162 - val_accuracy: 0.8024\n",
            "Epoch 52/60\n",
            "47/47 [==============================] - 3s 57ms/step - loss: 0.6358 - accuracy: 0.7775 - val_loss: 0.6221 - val_accuracy: 0.8051\n",
            "Epoch 53/60\n",
            "47/47 [==============================] - 3s 55ms/step - loss: 0.6347 - accuracy: 0.7784 - val_loss: 0.6179 - val_accuracy: 0.8078\n",
            "Epoch 54/60\n",
            "47/47 [==============================] - 3s 59ms/step - loss: 0.6368 - accuracy: 0.7801 - val_loss: 0.6223 - val_accuracy: 0.7957\n",
            "Epoch 55/60\n",
            "47/47 [==============================] - 3s 65ms/step - loss: 0.6310 - accuracy: 0.7792 - val_loss: 0.6090 - val_accuracy: 0.8085\n",
            "Epoch 56/60\n",
            "47/47 [==============================] - 3s 70ms/step - loss: 0.6382 - accuracy: 0.7784 - val_loss: 0.6343 - val_accuracy: 0.7923\n",
            "Epoch 57/60\n",
            "47/47 [==============================] - 3s 61ms/step - loss: 0.6237 - accuracy: 0.7819 - val_loss: 0.6329 - val_accuracy: 0.7970\n",
            "Epoch 58/60\n",
            "47/47 [==============================] - 3s 56ms/step - loss: 0.6225 - accuracy: 0.7836 - val_loss: 0.6163 - val_accuracy: 0.7957\n",
            "Epoch 59/60\n",
            "47/47 [==============================] - 3s 55ms/step - loss: 0.6248 - accuracy: 0.7765 - val_loss: 0.6315 - val_accuracy: 0.8018\n",
            "Epoch 60/60\n",
            "47/47 [==============================] - 3s 56ms/step - loss: 0.6345 - accuracy: 0.7750 - val_loss: 0.6260 - val_accuracy: 0.7997\n"
          ]
        }
      ]
    },
    {
      "cell_type": "code",
      "source": [
        "import matplotlib.pyplot as plt\n",
        "plt.plot(history.history['accuracy'],label='Training Data')\n",
        "plt.plot(history.history['val_accuracy'],label='Validation Data')\n",
        "plt.xlabel('Epochs')\n",
        "plt.ylabel('Accuracy')\n",
        "plt.legend(loc='upper left')\n",
        "plt.show()"
      ],
      "metadata": {
        "colab": {
          "base_uri": "https://localhost:8080/",
          "height": 279
        },
        "id": "Gi8T3-W3H9jP",
        "outputId": "21b7b209-535d-4631-aca1-fda7f8bbb1d7"
      },
      "execution_count": 23,
      "outputs": [
        {
          "output_type": "display_data",
          "data": {
            "text/plain": [
              "<Figure size 432x288 with 1 Axes>"
            ],
            "image/png": "[encoded data removed]"
          },
          "metadata": {
            "needs_background": "light"
          }
        }
      ]
    },
    {
      "cell_type": "code",
      "source": [
        "X_test=np.array(X_test)\n",
        "y_test=np.array(y_test)"
      ],
      "metadata": {
        "id": "_gs2fpuwK6MS"
      },
      "execution_count": 30,
      "outputs": []
    },
    {
      "cell_type": "code",
      "source": [
        "model.evaluate(X_test,y_test)"
      ],
      "metadata": {
        "colab": {
          "base_uri": "https://localhost:8080/"
        },
        "id": "Jjc_cgGtLx3I",
        "outputId": "31e2bfb3-060b-44d2-fbd8-ffc871e6d867"
      },
      "execution_count": 31,
      "outputs": [
        {
          "output_type": "stream",
          "name": "stdout",
          "text": [
            "58/58 [==============================] - 1s 9ms/step - loss: 0.6521 - accuracy: 0.7689\n"
          ]
        },
        {
          "output_type": "execute_result",
          "data": {
            "text/plain": [
              "[0.6520943641662598, 0.7689393758773804]"
            ]
          },
          "metadata": {},
          "execution_count": 31
        }
      ]
    },
    {
      "cell_type": "code",
      "source": [
        "model1=tf.keras.Sequential([\n",
        "    tf.keras.layers.Conv2D(128,(3,3), padding='same', activation=tf.nn.relu,input_shape=(64,64,3)),\n",
        "    tf.keras.layers.MaxPooling2D((2, 2), strides=2),\n",
        "    tf.keras.layers.Dropout(0.5),\n",
        "    tf.keras.layers.Conv2D(128, (3,3), padding='same', activation=tf.nn.relu),\n",
        "    tf.keras.layers.MaxPooling2D((2, 2), strides=2),\n",
        "    tf.keras.layers.Dropout(0.5),\n",
        "    tf.keras.layers.Flatten(),\n",
        "    tf.keras.layers.Dense(128, activation=tf.nn.relu),\n",
        "    tf.keras.layers.Dense(7,  activation=tf.nn.softmax)\n",
        "])"
      ],
      "metadata": {
        "id": "0x-2N1K7JfdZ"
      },
      "execution_count": 24,
      "outputs": []
    },
    {
      "cell_type": "code",
      "source": [
        "model1.summary()"
      ],
      "metadata": {
        "colab": {
          "base_uri": "https://localhost:8080/"
        },
        "id": "dH9uIy7dJps_",
        "outputId": "cbc59b68-29d3-4c93-d254-146e7518bcf2"
      },
      "execution_count": 25,
      "outputs": [
        {
          "output_type": "stream",
          "name": "stdout",
          "text": [
            "Model: \"sequential_2\"\n",
            "_________________________________________________________________\n",
            " Layer (type)                Output Shape              Param #   \n",
            "=================================================================\n",
            " conv2d_4 (Conv2D)           (None, 64, 64, 128)       3584      \n",
            "                                                                 \n",
            " max_pooling2d_4 (MaxPooling  (None, 32, 32, 128)      0         \n",
            " 2D)                                                             \n",
            "                                                                 \n",
            " dropout_3 (Dropout)         (None, 32, 32, 128)       0         \n",
            "                                                                 \n",
            " conv2d_5 (Conv2D)           (None, 32, 32, 128)       147584    \n",
            "                                                                 \n",
            " max_pooling2d_5 (MaxPooling  (None, 16, 16, 128)      0         \n",
            " 2D)                                                             \n",
            "                                                                 \n",
            " dropout_4 (Dropout)         (None, 16, 16, 128)       0         \n",
            "                                                                 \n",
            " flatten_2 (Flatten)         (None, 32768)             0         \n",
            "                                                                 \n",
            " dense_4 (Dense)             (None, 128)               4194432   \n",
            "                                                                 \n",
            " dense_5 (Dense)             (None, 7)                 903       \n",
            "                                                                 \n",
            "=================================================================\n",
            "Total params: 4,346,503\n",
            "Trainable params: 4,346,503\n",
            "Non-trainable params: 0\n",
            "_________________________________________________________________\n"
          ]
        }
      ]
    },
    {
      "cell_type": "code",
      "source": [
        "model1.compile(optimizer='Adam',loss='sparse_categorical_crossentropy',metrics=['accuracy'])"
      ],
      "metadata": {
        "id": "kiPUY9ycJsJD"
      },
      "execution_count": 26,
      "outputs": []
    },
    {
      "cell_type": "code",
      "source": [
        "history1=model1.fit(train_ds.batch(128),\n",
        "         epochs=60,\n",
        "         validation_data=valid_ds.batch(128))"
      ],
      "metadata": {
        "colab": {
          "base_uri": "https://localhost:8080/"
        },
        "id": "Rp-75EXSJy1F",
        "outputId": "4abdc7f1-f3ba-4e52-ad02-fba3c7fb2c2b"
      },
      "execution_count": 27,
      "outputs": [
        {
          "output_type": "stream",
          "name": "stdout",
          "text": [
            "Epoch 1/60\n",
            "47/47 [==============================] - 3s 58ms/step - loss: 2.1565 - accuracy: 0.2022 - val_loss: 1.8674 - val_accuracy: 0.3261\n",
            "Epoch 2/60\n",
            "47/47 [==============================] - 3s 55ms/step - loss: 1.6551 - accuracy: 0.3350 - val_loss: 1.3152 - val_accuracy: 0.4452\n",
            "Epoch 3/60\n",
            "47/47 [==============================] - 3s 55ms/step - loss: 1.2199 - accuracy: 0.4762 - val_loss: 1.0753 - val_accuracy: 0.5440\n",
            "Epoch 4/60\n",
            "47/47 [==============================] - 3s 55ms/step - loss: 1.0976 - accuracy: 0.5365 - val_loss: 1.0184 - val_accuracy: 0.5785\n",
            "Epoch 5/60\n",
            "47/47 [==============================] - 3s 55ms/step - loss: 1.0064 - accuracy: 0.5889 - val_loss: 0.9066 - val_accuracy: 0.6387\n",
            "Epoch 6/60\n",
            "47/47 [==============================] - 3s 54ms/step - loss: 0.9320 - accuracy: 0.6266 - val_loss: 0.8332 - val_accuracy: 0.6773\n",
            "Epoch 7/60\n",
            "47/47 [==============================] - 3s 55ms/step - loss: 0.8367 - accuracy: 0.6664 - val_loss: 0.7316 - val_accuracy: 0.7503\n",
            "Epoch 8/60\n",
            "47/47 [==============================] - 3s 54ms/step - loss: 0.7471 - accuracy: 0.7056 - val_loss: 0.6748 - val_accuracy: 0.7598\n",
            "Epoch 9/60\n",
            "47/47 [==============================] - 3s 56ms/step - loss: 0.7002 - accuracy: 0.7227 - val_loss: 0.6251 - val_accuracy: 0.7767\n",
            "Epoch 10/60\n",
            "47/47 [==============================] - 3s 54ms/step - loss: 0.6452 - accuracy: 0.7440 - val_loss: 0.6230 - val_accuracy: 0.7760\n",
            "Epoch 11/60\n",
            "47/47 [==============================] - 3s 54ms/step - loss: 0.6169 - accuracy: 0.7535 - val_loss: 0.5933 - val_accuracy: 0.7794\n",
            "Epoch 12/60\n",
            "47/47 [==============================] - 3s 55ms/step - loss: 0.6028 - accuracy: 0.7628 - val_loss: 0.5691 - val_accuracy: 0.7821\n",
            "Epoch 13/60\n",
            "47/47 [==============================] - 3s 55ms/step - loss: 0.5751 - accuracy: 0.7635 - val_loss: 0.5439 - val_accuracy: 0.7997\n",
            "Epoch 14/60\n",
            "47/47 [==============================] - 3s 55ms/step - loss: 0.5364 - accuracy: 0.7851 - val_loss: 0.5386 - val_accuracy: 0.7950\n",
            "Epoch 15/60\n",
            "47/47 [==============================] - 3s 55ms/step - loss: 0.5569 - accuracy: 0.7738 - val_loss: 0.5593 - val_accuracy: 0.7923\n",
            "Epoch 16/60\n",
            "47/47 [==============================] - 3s 54ms/step - loss: 0.5026 - accuracy: 0.7972 - val_loss: 0.5300 - val_accuracy: 0.7963\n",
            "Epoch 17/60\n",
            "47/47 [==============================] - 3s 55ms/step - loss: 0.5240 - accuracy: 0.7857 - val_loss: 0.4680 - val_accuracy: 0.8315\n",
            "Epoch 18/60\n",
            "47/47 [==============================] - 3s 55ms/step - loss: 0.4840 - accuracy: 0.8021 - val_loss: 0.4637 - val_accuracy: 0.8268\n",
            "Epoch 19/60\n",
            "47/47 [==============================] - 3s 57ms/step - loss: 0.4470 - accuracy: 0.8142 - val_loss: 0.4948 - val_accuracy: 0.8207\n",
            "Epoch 20/60\n",
            "47/47 [==============================] - 3s 60ms/step - loss: 0.4415 - accuracy: 0.8159 - val_loss: 0.5077 - val_accuracy: 0.8078\n",
            "Epoch 21/60\n",
            "47/47 [==============================] - 3s 55ms/step - loss: 0.4214 - accuracy: 0.8247 - val_loss: 0.4521 - val_accuracy: 0.8390\n",
            "Epoch 22/60\n",
            "47/47 [==============================] - 3s 55ms/step - loss: 0.4065 - accuracy: 0.8286 - val_loss: 0.4410 - val_accuracy: 0.8471\n",
            "Epoch 23/60\n",
            "47/47 [==============================] - 3s 55ms/step - loss: 0.3907 - accuracy: 0.8352 - val_loss: 0.4332 - val_accuracy: 0.8444\n",
            "Epoch 24/60\n",
            "47/47 [==============================] - 3s 55ms/step - loss: 0.3872 - accuracy: 0.8415 - val_loss: 0.4809 - val_accuracy: 0.8288\n",
            "Epoch 25/60\n",
            "47/47 [==============================] - 3s 55ms/step - loss: 0.3948 - accuracy: 0.8373 - val_loss: 0.4438 - val_accuracy: 0.8410\n",
            "Epoch 26/60\n",
            "47/47 [==============================] - 3s 55ms/step - loss: 0.3672 - accuracy: 0.8439 - val_loss: 0.4388 - val_accuracy: 0.8356\n",
            "Epoch 27/60\n",
            "47/47 [==============================] - 3s 54ms/step - loss: 0.3652 - accuracy: 0.8460 - val_loss: 0.4341 - val_accuracy: 0.8363\n",
            "Epoch 28/60\n",
            "47/47 [==============================] - 3s 58ms/step - loss: 0.3469 - accuracy: 0.8516 - val_loss: 0.4648 - val_accuracy: 0.8315\n",
            "Epoch 29/60\n",
            "47/47 [==============================] - 3s 55ms/step - loss: 0.3527 - accuracy: 0.8557 - val_loss: 0.4359 - val_accuracy: 0.8383\n",
            "Epoch 30/60\n",
            "47/47 [==============================] - 3s 55ms/step - loss: 0.3493 - accuracy: 0.8554 - val_loss: 0.4453 - val_accuracy: 0.8376\n",
            "Epoch 31/60\n",
            "47/47 [==============================] - 3s 54ms/step - loss: 0.3233 - accuracy: 0.8638 - val_loss: 0.4458 - val_accuracy: 0.8295\n",
            "Epoch 32/60\n",
            "47/47 [==============================] - 3s 54ms/step - loss: 0.3358 - accuracy: 0.8572 - val_loss: 0.5174 - val_accuracy: 0.8072\n",
            "Epoch 33/60\n",
            "47/47 [==============================] - 3s 55ms/step - loss: 0.3248 - accuracy: 0.8623 - val_loss: 0.4464 - val_accuracy: 0.8369\n",
            "Epoch 34/60\n",
            "47/47 [==============================] - 3s 54ms/step - loss: 0.3157 - accuracy: 0.8677 - val_loss: 0.5186 - val_accuracy: 0.8099\n",
            "Epoch 35/60\n",
            "47/47 [==============================] - 3s 54ms/step - loss: 0.3152 - accuracy: 0.8684 - val_loss: 0.5231 - val_accuracy: 0.8139\n",
            "Epoch 36/60\n",
            "47/47 [==============================] - 3s 56ms/step - loss: 0.2995 - accuracy: 0.8789 - val_loss: 0.4691 - val_accuracy: 0.8315\n",
            "Epoch 37/60\n",
            "47/47 [==============================] - 3s 55ms/step - loss: 0.2982 - accuracy: 0.8790 - val_loss: 0.4566 - val_accuracy: 0.8295\n",
            "Epoch 38/60\n",
            "47/47 [==============================] - 3s 56ms/step - loss: 0.3079 - accuracy: 0.8733 - val_loss: 0.4480 - val_accuracy: 0.8430\n",
            "Epoch 39/60\n",
            "47/47 [==============================] - 3s 56ms/step - loss: 0.2951 - accuracy: 0.8792 - val_loss: 0.4631 - val_accuracy: 0.8437\n",
            "Epoch 40/60\n",
            "47/47 [==============================] - 3s 54ms/step - loss: 0.2907 - accuracy: 0.8777 - val_loss: 0.4972 - val_accuracy: 0.8288\n",
            "Epoch 41/60\n",
            "47/47 [==============================] - 3s 55ms/step - loss: 0.2795 - accuracy: 0.8812 - val_loss: 0.4749 - val_accuracy: 0.8363\n",
            "Epoch 42/60\n",
            "47/47 [==============================] - 3s 57ms/step - loss: 0.2792 - accuracy: 0.8834 - val_loss: 0.4754 - val_accuracy: 0.8478\n",
            "Epoch 43/60\n",
            "47/47 [==============================] - 3s 56ms/step - loss: 0.2730 - accuracy: 0.8829 - val_loss: 0.4494 - val_accuracy: 0.8464\n",
            "Epoch 44/60\n",
            "47/47 [==============================] - 3s 55ms/step - loss: 0.2712 - accuracy: 0.8853 - val_loss: 0.4605 - val_accuracy: 0.8451\n",
            "Epoch 45/60\n",
            "47/47 [==============================] - 3s 56ms/step - loss: 0.2684 - accuracy: 0.8870 - val_loss: 0.4726 - val_accuracy: 0.8342\n",
            "Epoch 46/60\n",
            "47/47 [==============================] - 3s 55ms/step - loss: 0.2622 - accuracy: 0.8895 - val_loss: 0.5169 - val_accuracy: 0.8309\n",
            "Epoch 47/60\n",
            "47/47 [==============================] - 3s 55ms/step - loss: 0.2616 - accuracy: 0.8927 - val_loss: 0.5518 - val_accuracy: 0.8187\n",
            "Epoch 48/60\n",
            "47/47 [==============================] - 3s 56ms/step - loss: 0.2669 - accuracy: 0.8894 - val_loss: 0.6366 - val_accuracy: 0.7997\n",
            "Epoch 49/60\n",
            "47/47 [==============================] - 3s 56ms/step - loss: 0.2603 - accuracy: 0.8912 - val_loss: 0.5501 - val_accuracy: 0.8207\n",
            "Epoch 50/60\n",
            "47/47 [==============================] - 3s 56ms/step - loss: 0.2745 - accuracy: 0.8868 - val_loss: 0.6150 - val_accuracy: 0.8045\n",
            "Epoch 51/60\n",
            "47/47 [==============================] - 3s 55ms/step - loss: 0.2564 - accuracy: 0.8939 - val_loss: 0.5199 - val_accuracy: 0.8363\n",
            "Epoch 52/60\n",
            "47/47 [==============================] - 3s 55ms/step - loss: 0.2664 - accuracy: 0.8924 - val_loss: 0.7157 - val_accuracy: 0.7882\n",
            "Epoch 53/60\n",
            "47/47 [==============================] - 3s 54ms/step - loss: 0.2928 - accuracy: 0.8804 - val_loss: 0.5425 - val_accuracy: 0.8309\n",
            "Epoch 54/60\n",
            "47/47 [==============================] - 3s 55ms/step - loss: 0.2740 - accuracy: 0.8867 - val_loss: 0.6001 - val_accuracy: 0.8092\n",
            "Epoch 55/60\n",
            "47/47 [==============================] - 3s 56ms/step - loss: 0.2553 - accuracy: 0.8927 - val_loss: 0.5503 - val_accuracy: 0.8369\n",
            "Epoch 56/60\n",
            "47/47 [==============================] - 3s 56ms/step - loss: 0.2358 - accuracy: 0.9010 - val_loss: 0.5958 - val_accuracy: 0.8281\n",
            "Epoch 57/60\n",
            "47/47 [==============================] - 3s 55ms/step - loss: 0.2459 - accuracy: 0.8939 - val_loss: 0.5979 - val_accuracy: 0.8200\n",
            "Epoch 58/60\n",
            "47/47 [==============================] - 3s 56ms/step - loss: 0.2470 - accuracy: 0.9012 - val_loss: 0.5886 - val_accuracy: 0.8160\n",
            "Epoch 59/60\n",
            "47/47 [==============================] - 3s 70ms/step - loss: 0.2345 - accuracy: 0.9017 - val_loss: 0.5479 - val_accuracy: 0.8281\n",
            "Epoch 60/60\n",
            "47/47 [==============================] - 3s 56ms/step - loss: 0.2453 - accuracy: 0.8980 - val_loss: 0.5102 - val_accuracy: 0.8342\n"
          ]
        }
      ]
    },
    {
      "cell_type": "code",
      "source": [
        "plt.plot(history1.history['accuracy'],label='Training Data')\n",
        "plt.plot(history1.history['val_accuracy'],label='Validation Data')\n",
        "plt.xlabel('Epochs')\n",
        "plt.ylabel('Accuracy')\n",
        "plt.legend(loc='upper left')\n",
        "plt.show()"
      ],
      "metadata": {
        "colab": {
          "base_uri": "https://localhost:8080/",
          "height": 279
        },
        "id": "cWc--eZqJ77j",
        "outputId": "889241d5-e12c-4006-e304-12c03e310f2a"
      },
      "execution_count": 28,
      "outputs": [
        {
          "output_type": "display_data",
          "data": {
            "text/plain": [
              "<Figure size 432x288 with 1 Axes>"
            ],
            "image/png": "[encoded data removed]"
          },
          "metadata": {
            "needs_background": "light"
          }
        }
      ]
    },
    {
      "cell_type": "code",
      "source": [
        "model1.evaluate(X_test,y_test)"
      ],
      "metadata": {
        "colab": {
          "base_uri": "https://localhost:8080/"
        },
        "id": "-tfWIGgzL4gp",
        "outputId": "6a5929b8-196f-4928-bb8a-8160d23d515e"
      },
      "execution_count": 32,
      "outputs": [
        {
          "output_type": "stream",
          "name": "stdout",
          "text": [
            "58/58 [==============================] - 1s 8ms/step - loss: 0.5997 - accuracy: 0.8057\n"
          ]
        },
        {
          "output_type": "execute_result",
          "data": {
            "text/plain": [
              "[0.5997431874275208, 0.8057359457015991]"
            ]
          },
          "metadata": {},
          "execution_count": 32
        }
      ]
    },
    {
      "cell_type": "code",
      "source": [
        "model2=tf.keras.Sequential([\n",
        "    tf.keras.layers.Conv2D(128,(3,3), padding='same', activation=tf.nn.relu,input_shape=(64,64,3)),\n",
        "    tf.keras.layers.MaxPooling2D((2, 2), strides=2),\n",
        "    tf.keras.layers.Dropout(0.5),\n",
        "    tf.keras.layers.Conv2D(128, (3,3), padding='same', activation=tf.nn.relu),\n",
        "    tf.keras.layers.MaxPooling2D((2, 2), strides=2),\n",
        "    tf.keras.layers.Dropout(0.5),\n",
        "    tf.keras.layers.Flatten(),\n",
        "    tf.keras.layers.Dense(128, activation=tf.nn.relu),\n",
        "    tf.keras.layers.Dropout(0.5),\n",
        "    tf.keras.layers.Dense(7,  activation=tf.nn.softmax)\n",
        "])"
      ],
      "metadata": {
        "id": "_ld1GrnWM2Nm"
      },
      "execution_count": 47,
      "outputs": []
    },
    {
      "cell_type": "code",
      "source": [
        "model2.summary()"
      ],
      "metadata": {
        "colab": {
          "base_uri": "https://localhost:8080/"
        },
        "id": "sBIat0W_M6aU",
        "outputId": "d89726f7-a90d-4df6-bec8-0355d0793b3d"
      },
      "execution_count": 48,
      "outputs": [
        {
          "output_type": "stream",
          "name": "stdout",
          "text": [
            "Model: \"sequential_6\"\n",
            "_________________________________________________________________\n",
            " Layer (type)                Output Shape              Param #   \n",
            "=================================================================\n",
            " conv2d_12 (Conv2D)          (None, 64, 64, 128)       3584      \n",
            "                                                                 \n",
            " max_pooling2d_12 (MaxPoolin  (None, 32, 32, 128)      0         \n",
            " g2D)                                                            \n",
            "                                                                 \n",
            " dropout_12 (Dropout)        (None, 32, 32, 128)       0         \n",
            "                                                                 \n",
            " conv2d_13 (Conv2D)          (None, 32, 32, 128)       147584    \n",
            "                                                                 \n",
            " max_pooling2d_13 (MaxPoolin  (None, 16, 16, 128)      0         \n",
            " g2D)                                                            \n",
            "                                                                 \n",
            " dropout_13 (Dropout)        (None, 16, 16, 128)       0         \n",
            "                                                                 \n",
            " flatten_6 (Flatten)         (None, 32768)             0         \n",
            "                                                                 \n",
            " dense_12 (Dense)            (None, 128)               4194432   \n",
            "                                                                 \n",
            " dropout_14 (Dropout)        (None, 128)               0         \n",
            "                                                                 \n",
            " dense_13 (Dense)            (None, 7)                 903       \n",
            "                                                                 \n",
            "=================================================================\n",
            "Total params: 4,346,503\n",
            "Trainable params: 4,346,503\n",
            "Non-trainable params: 0\n",
            "_________________________________________________________________\n"
          ]
        }
      ]
    },
    {
      "cell_type": "code",
      "source": [
        "model2.compile(optimizer='Adam',loss='sparse_categorical_crossentropy',metrics=['accuracy'])"
      ],
      "metadata": {
        "id": "oU_Xs25-M9j0"
      },
      "execution_count": 49,
      "outputs": []
    },
    {
      "cell_type": "code",
      "source": [
        "history2=model1.fit(train_ds.batch(128),\n",
        "         epochs=60,\n",
        "         validation_data=valid_ds.batch(128))"
      ],
      "metadata": {
        "colab": {
          "base_uri": "https://localhost:8080/"
        },
        "id": "h_MTRyEUNDck",
        "outputId": "f7d19a1b-1d45-46cb-a51a-ef2ecae86a19"
      },
      "execution_count": 50,
      "outputs": [
        {
          "output_type": "stream",
          "name": "stdout",
          "text": [
            "Epoch 1/60\n",
            "47/47 [==============================] - 3s 55ms/step - loss: 0.0463 - accuracy: 0.9846 - val_loss: 1.0317 - val_accuracy: 0.8295\n",
            "Epoch 2/60\n",
            "47/47 [==============================] - 3s 54ms/step - loss: 0.0422 - accuracy: 0.9865 - val_loss: 1.0984 - val_accuracy: 0.8322\n",
            "Epoch 3/60\n",
            "47/47 [==============================] - 3s 55ms/step - loss: 0.0311 - accuracy: 0.9887 - val_loss: 1.1398 - val_accuracy: 0.8268\n",
            "Epoch 4/60\n",
            "47/47 [==============================] - 3s 55ms/step - loss: 0.0361 - accuracy: 0.9871 - val_loss: 1.0935 - val_accuracy: 0.8288\n",
            "Epoch 5/60\n",
            "47/47 [==============================] - 3s 56ms/step - loss: 0.0377 - accuracy: 0.9865 - val_loss: 1.1709 - val_accuracy: 0.8166\n",
            "Epoch 6/60\n",
            "47/47 [==============================] - 3s 56ms/step - loss: 0.0424 - accuracy: 0.9849 - val_loss: 1.1189 - val_accuracy: 0.8261\n",
            "Epoch 7/60\n",
            "47/47 [==============================] - 3s 55ms/step - loss: 0.0291 - accuracy: 0.9897 - val_loss: 1.0169 - val_accuracy: 0.8295\n",
            "Epoch 8/60\n",
            "47/47 [==============================] - 3s 56ms/step - loss: 0.0416 - accuracy: 0.9856 - val_loss: 1.0638 - val_accuracy: 0.8329\n",
            "Epoch 9/60\n",
            "47/47 [==============================] - 3s 56ms/step - loss: 0.0319 - accuracy: 0.9885 - val_loss: 1.0450 - val_accuracy: 0.8309\n",
            "Epoch 10/60\n",
            "47/47 [==============================] - 3s 59ms/step - loss: 0.0361 - accuracy: 0.9877 - val_loss: 1.0473 - val_accuracy: 0.8356\n",
            "Epoch 11/60\n",
            "47/47 [==============================] - 3s 57ms/step - loss: 0.0349 - accuracy: 0.9866 - val_loss: 1.1452 - val_accuracy: 0.8295\n",
            "Epoch 12/60\n",
            "47/47 [==============================] - 3s 56ms/step - loss: 0.0357 - accuracy: 0.9875 - val_loss: 1.0882 - val_accuracy: 0.8200\n",
            "Epoch 13/60\n",
            "47/47 [==============================] - 3s 55ms/step - loss: 0.0302 - accuracy: 0.9893 - val_loss: 1.1115 - val_accuracy: 0.8329\n",
            "Epoch 14/60\n",
            "47/47 [==============================] - 3s 55ms/step - loss: 0.0280 - accuracy: 0.9893 - val_loss: 1.1094 - val_accuracy: 0.8315\n",
            "Epoch 15/60\n",
            "47/47 [==============================] - 3s 56ms/step - loss: 0.0289 - accuracy: 0.9895 - val_loss: 1.1367 - val_accuracy: 0.8302\n",
            "Epoch 16/60\n",
            "47/47 [==============================] - 3s 55ms/step - loss: 0.0320 - accuracy: 0.9907 - val_loss: 1.0730 - val_accuracy: 0.8281\n",
            "Epoch 17/60\n",
            "47/47 [==============================] - 3s 55ms/step - loss: 0.0334 - accuracy: 0.9883 - val_loss: 1.1268 - val_accuracy: 0.8288\n",
            "Epoch 18/60\n",
            "47/47 [==============================] - 3s 56ms/step - loss: 0.0326 - accuracy: 0.9883 - val_loss: 1.0748 - val_accuracy: 0.8261\n",
            "Epoch 19/60\n",
            "47/47 [==============================] - 3s 55ms/step - loss: 0.0251 - accuracy: 0.9919 - val_loss: 1.1623 - val_accuracy: 0.8268\n",
            "Epoch 20/60\n",
            "47/47 [==============================] - 3s 55ms/step - loss: 0.0329 - accuracy: 0.9885 - val_loss: 1.1412 - val_accuracy: 0.8200\n",
            "Epoch 21/60\n",
            "47/47 [==============================] - 3s 55ms/step - loss: 0.0203 - accuracy: 0.9920 - val_loss: 1.2094 - val_accuracy: 0.8275\n",
            "Epoch 22/60\n",
            "47/47 [==============================] - 3s 55ms/step - loss: 0.0254 - accuracy: 0.9909 - val_loss: 1.1248 - val_accuracy: 0.8349\n",
            "Epoch 23/60\n",
            "47/47 [==============================] - 3s 56ms/step - loss: 0.0351 - accuracy: 0.9885 - val_loss: 1.2083 - val_accuracy: 0.8187\n",
            "Epoch 24/60\n",
            "47/47 [==============================] - 3s 56ms/step - loss: 0.0387 - accuracy: 0.9878 - val_loss: 1.2316 - val_accuracy: 0.8261\n",
            "Epoch 25/60\n",
            "47/47 [==============================] - 3s 56ms/step - loss: 0.0492 - accuracy: 0.9839 - val_loss: 1.1489 - val_accuracy: 0.8295\n",
            "Epoch 26/60\n",
            "47/47 [==============================] - 3s 55ms/step - loss: 0.0543 - accuracy: 0.9822 - val_loss: 1.1745 - val_accuracy: 0.8281\n",
            "Epoch 27/60\n",
            "47/47 [==============================] - 3s 56ms/step - loss: 0.0330 - accuracy: 0.9892 - val_loss: 1.1389 - val_accuracy: 0.8261\n",
            "Epoch 28/60\n",
            "47/47 [==============================] - 3s 57ms/step - loss: 0.0276 - accuracy: 0.9898 - val_loss: 1.1917 - val_accuracy: 0.8248\n",
            "Epoch 29/60\n",
            "47/47 [==============================] - 3s 56ms/step - loss: 0.0266 - accuracy: 0.9900 - val_loss: 1.2569 - val_accuracy: 0.8261\n",
            "Epoch 30/60\n",
            "47/47 [==============================] - 3s 56ms/step - loss: 0.0373 - accuracy: 0.9897 - val_loss: 1.1545 - val_accuracy: 0.8275\n",
            "Epoch 31/60\n",
            "47/47 [==============================] - 3s 56ms/step - loss: 0.0287 - accuracy: 0.9920 - val_loss: 1.1464 - val_accuracy: 0.8268\n",
            "Epoch 32/60\n",
            "47/47 [==============================] - 3s 55ms/step - loss: 0.0309 - accuracy: 0.9897 - val_loss: 1.2265 - val_accuracy: 0.8349\n",
            "Epoch 33/60\n",
            "47/47 [==============================] - 3s 56ms/step - loss: 0.0254 - accuracy: 0.9912 - val_loss: 1.2277 - val_accuracy: 0.8268\n",
            "Epoch 34/60\n",
            "47/47 [==============================] - 3s 55ms/step - loss: 0.0352 - accuracy: 0.9887 - val_loss: 1.2436 - val_accuracy: 0.8302\n",
            "Epoch 35/60\n",
            "47/47 [==============================] - 3s 55ms/step - loss: 0.0303 - accuracy: 0.9898 - val_loss: 1.2886 - val_accuracy: 0.8315\n",
            "Epoch 36/60\n",
            "47/47 [==============================] - 3s 56ms/step - loss: 0.0360 - accuracy: 0.9888 - val_loss: 1.1578 - val_accuracy: 0.8329\n",
            "Epoch 37/60\n",
            "47/47 [==============================] - 3s 56ms/step - loss: 0.0323 - accuracy: 0.9880 - val_loss: 1.1550 - val_accuracy: 0.8329\n",
            "Epoch 38/60\n",
            "47/47 [==============================] - 3s 55ms/step - loss: 0.0263 - accuracy: 0.9905 - val_loss: 1.1934 - val_accuracy: 0.8349\n",
            "Epoch 39/60\n",
            "47/47 [==============================] - 3s 56ms/step - loss: 0.0266 - accuracy: 0.9898 - val_loss: 1.2903 - val_accuracy: 0.8315\n",
            "Epoch 40/60\n",
            "47/47 [==============================] - 3s 55ms/step - loss: 0.0409 - accuracy: 0.9860 - val_loss: 1.1588 - val_accuracy: 0.8248\n",
            "Epoch 41/60\n",
            "47/47 [==============================] - 3s 55ms/step - loss: 0.0323 - accuracy: 0.9880 - val_loss: 1.2408 - val_accuracy: 0.8207\n",
            "Epoch 42/60\n",
            "47/47 [==============================] - 3s 56ms/step - loss: 0.0271 - accuracy: 0.9893 - val_loss: 1.1866 - val_accuracy: 0.8322\n",
            "Epoch 43/60\n",
            "47/47 [==============================] - 3s 55ms/step - loss: 0.0232 - accuracy: 0.9927 - val_loss: 1.3141 - val_accuracy: 0.8342\n",
            "Epoch 44/60\n",
            "47/47 [==============================] - 3s 55ms/step - loss: 0.0233 - accuracy: 0.9914 - val_loss: 1.1695 - val_accuracy: 0.8356\n",
            "Epoch 45/60\n",
            "47/47 [==============================] - 3s 55ms/step - loss: 0.0225 - accuracy: 0.9919 - val_loss: 1.2140 - val_accuracy: 0.8281\n",
            "Epoch 46/60\n",
            "47/47 [==============================] - 3s 56ms/step - loss: 0.0244 - accuracy: 0.9919 - val_loss: 1.2735 - val_accuracy: 0.8275\n",
            "Epoch 47/60\n",
            "47/47 [==============================] - 3s 55ms/step - loss: 0.0302 - accuracy: 0.9898 - val_loss: 1.2335 - val_accuracy: 0.8275\n",
            "Epoch 48/60\n",
            "47/47 [==============================] - 3s 56ms/step - loss: 0.0294 - accuracy: 0.9915 - val_loss: 1.1957 - val_accuracy: 0.8295\n",
            "Epoch 49/60\n",
            "47/47 [==============================] - 3s 55ms/step - loss: 0.0261 - accuracy: 0.9905 - val_loss: 1.2903 - val_accuracy: 0.8363\n",
            "Epoch 50/60\n",
            "47/47 [==============================] - 3s 56ms/step - loss: 0.0340 - accuracy: 0.9893 - val_loss: 1.2052 - val_accuracy: 0.8309\n",
            "Epoch 51/60\n",
            "47/47 [==============================] - 3s 55ms/step - loss: 0.0349 - accuracy: 0.9887 - val_loss: 1.2329 - val_accuracy: 0.8302\n",
            "Epoch 52/60\n",
            "47/47 [==============================] - 3s 55ms/step - loss: 0.0219 - accuracy: 0.9924 - val_loss: 1.2986 - val_accuracy: 0.8295\n",
            "Epoch 53/60\n",
            "47/47 [==============================] - 3s 55ms/step - loss: 0.0203 - accuracy: 0.9936 - val_loss: 1.3554 - val_accuracy: 0.8336\n",
            "Epoch 54/60\n",
            "47/47 [==============================] - 3s 56ms/step - loss: 0.0290 - accuracy: 0.9905 - val_loss: 1.1317 - val_accuracy: 0.8369\n",
            "Epoch 55/60\n",
            "47/47 [==============================] - 3s 56ms/step - loss: 0.0395 - accuracy: 0.9866 - val_loss: 1.2794 - val_accuracy: 0.8302\n",
            "Epoch 56/60\n",
            "47/47 [==============================] - 3s 57ms/step - loss: 0.0300 - accuracy: 0.9902 - val_loss: 1.3120 - val_accuracy: 0.8214\n",
            "Epoch 57/60\n",
            "47/47 [==============================] - 3s 56ms/step - loss: 0.0356 - accuracy: 0.9892 - val_loss: 1.2741 - val_accuracy: 0.8329\n",
            "Epoch 58/60\n",
            "47/47 [==============================] - 3s 55ms/step - loss: 0.0317 - accuracy: 0.9898 - val_loss: 1.2663 - val_accuracy: 0.8281\n",
            "Epoch 59/60\n",
            "47/47 [==============================] - 3s 56ms/step - loss: 0.0298 - accuracy: 0.9910 - val_loss: 1.3416 - val_accuracy: 0.8281\n",
            "Epoch 60/60\n",
            "47/47 [==============================] - 3s 57ms/step - loss: 0.0222 - accuracy: 0.9917 - val_loss: 1.3709 - val_accuracy: 0.8349\n"
          ]
        }
      ]
    },
    {
      "cell_type": "code",
      "source": [
        "plt.plot(history1.history['accuracy'],label='Training Data')\n",
        "plt.plot(history1.history['val_accuracy'],label='Validation Data')\n",
        "plt.xlabel('Epochs')\n",
        "plt.ylabel('Accuracy')\n",
        "plt.legend(loc='upper left')\n",
        "plt.show()"
      ],
      "metadata": {
        "colab": {
          "base_uri": "https://localhost:8080/",
          "height": 279
        },
        "id": "dSpgQIBvNWHK",
        "outputId": "9c8c454a-6f00-4134-8582-ab066620955e"
      },
      "execution_count": 52,
      "outputs": [
        {
          "output_type": "display_data",
          "data": {
            "text/plain": [
              "<Figure size 432x288 with 1 Axes>"
            ],
            "image/png": "[encoded data removed]"
          },
          "metadata": {
            "needs_background": "light"
          }
        }
      ]
    }
  ]
}